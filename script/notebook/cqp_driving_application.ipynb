{
 "cells": [
  {
   "cell_type": "code",
   "execution_count": null,
   "source": [
    "%load_ext autoreload"
   ],
   "outputs": [],
   "metadata": {}
  },
  {
   "cell_type": "code",
   "execution_count": null,
   "source": [
    "%autoreload 2\n",
    "\n",
    "import sys\n",
    "from pathlib import Path\n",
    "\n",
    "try:\n",
    "    sys.path.append(str(Path().cwd().parent))\n",
    "except IndexError:\n",
    "    pass\n",
    "\n",
    "from cqp.bitrate_model.util import *\n",
    "from cqp.bitrate_model.model import *\n",
    "from cqp.preprocessor_model.application import *\n",
    "from cqp.preprocessor_model.model import *"
   ],
   "outputs": [],
   "metadata": {}
  },
  {
   "cell_type": "code",
   "execution_count": null,
   "source": [
    "analytic_model = BitrateModel(ModelParameter())\n",
    "\n",
    "MODEL_PATH = \"cqp/models/x264-cif.h5\"\n",
    "model = tf.keras.models.load_model(MODEL_PATH)\n",
    "model.summary()"
   ],
   "outputs": [],
   "metadata": {}
  },
  {
   "cell_type": "code",
   "execution_count": null,
   "source": [
    "front_ref = analytic_model.evaluate(96.974, 22.112, 27, 30, 20, \"352x288\", 1, 0.5)\n",
    "front_left_ref = analytic_model.evaluate(102.196, 23.826, 27, 30, 20, \"352x288\", 1, 0.5)\n",
    "front_right_ref = analytic_model.evaluate(95.964, 23.687, 29, 30, 20, \"352x288\", 1, 0.5)\n",
    "rear_ref = analytic_model.evaluate(115.44, 28.398, 27, 15, 20, \"286x234\", 1, 0.5)\n",
    "rear_left_ref = analytic_model.evaluate(105.405, 21.489, 31, 15, 20, \"286x234\", 1, 0.5)\n",
    "rear_right_ref = analytic_model.evaluate(111.059, 26.843, 27, 15, 20, \"176x144\", 1, 0.5)"
   ],
   "outputs": [],
   "metadata": {}
  },
  {
   "cell_type": "code",
   "execution_count": null,
   "source": [
    "print(front_right_ref - analytic_model.evaluate(95.964, 23.687, 27, 30, 20, \"352x288\", 3, 0.52))\n",
    "print(rear_left_ref - analytic_model.evaluate(105.405, 21.489, 27, 15, 20, \"286x234\", 3, 0.7))"
   ],
   "outputs": [],
   "metadata": {}
  },
  {
   "cell_type": "code",
   "execution_count": null,
   "source": [
    "data_files = list(Path.cwd().joinpath(\"notebooks\").joinpath(\"data\").glob(\"*.csv\"))\n",
    "max_parameter = MaxBitrateParameter()\n",
    "dfw_train = DataFrameWrapper(read_df_by_keys(data_files, KEYS.TRAINING_SET), max_parameter)\n",
    "dfw_val = DataFrameWrapper(read_df_by_keys(data_files, KEYS.VALIDATION_SET), max_parameter)"
   ],
   "outputs": [],
   "metadata": {}
  },
  {
   "cell_type": "code",
   "execution_count": null,
   "source": [
    "ml_filter_model = MLPreprocessorModel.from_dfw([1], [0.5], dfw_train, dfw_val, model)"
   ],
   "outputs": [],
   "metadata": {}
  },
  {
   "cell_type": "code",
   "execution_count": null,
   "source": [
    "front_ref = ml_filter_model.predict_rate(96.974, 22.112, 27, 30, 20, \"352x288\", 1, 0.5)\n",
    "front_left_ref = ml_filter_model.predict_rate(102.196, 23.826, 27, 30, 20, \"352x288\", 1, 0.5)\n",
    "front_right_ref = ml_filter_model.predict_rate(95.964, 23.687, 29, 30, 20, \"352x288\", 1, 0.5)\n",
    "rear_ref = ml_filter_model.predict_rate(115.44, 28.398, 27, 15, 20, \"286x234\", 1, 0.5)\n",
    "rear_left_ref = ml_filter_model.predict_rate(105.405, 21.489, 31, 15, 20, \"286x234\", 1, 0.5)\n",
    "rear_right_ref = ml_filter_model.predict_rate(111.059, 26.843, 27, 15, 20, \"176x144\", 1, 0.5)"
   ],
   "outputs": [],
   "metadata": {}
  },
  {
   "cell_type": "code",
   "execution_count": null,
   "source": [
    "print(0.001 * (front_right_ref - ml_filter_model.predict_rate(95.964, 23.687, 27, 30, 20, \"352x288\", 3, 0.55)))\n",
    "print(0.001 * (rear_left_ref - ml_filter_model.predict_rate(105.405, 21.489, 27, 15, 20, \"286x234\", 5, 1.0)))"
   ],
   "outputs": [],
   "metadata": {}
  },
  {
   "cell_type": "code",
   "execution_count": null,
   "source": [
    "# Set w_max: int = 1920  # px and h_max: int = 1080  # px in util.py MaxBitrateParameter\n",
    "analytic_model = BitrateModel(ModelParameter(\n",
    "        rho=[1924.03610673, -7900.46659695, -39.55648136, 38530.58130947],\n",
    "        alpha=[-1.49061683e-02,  2.37409673e-05,  3.77142015],\n",
    "        beta=[0.99998729],\n",
    "        gamma=[-0.54621585,  0.00805115,  1.26424727],\n",
    "        delta=[-0.01456531,  1.00852458],\n",
    "        epsilon=[ 0.54724524, -0.00807732, -0.26493794],\n",
    "        phi=[-1.96851369e-04,  2.01130840],\n",
    "        lambda_=[-0.00114698,  0.27982574],\n",
    "        mu=[15.8162305],\n",
    "        omega=[0.79079725],\n",
    "        tau=[0.00073529, 0.29331452],\n",
    "        upsilon=[-1.25299066e-04,  2.94483516],\n",
    "        nu=[-0.00070884,  0.70659776]\n",
    "    ))\n",
    "\n",
    "MODEL_PATH = \"cqp/models/nhevc-hd.h5\"\n",
    "model = tf.keras.models.load_model(MODEL_PATH)\n",
    "model.summary()"
   ],
   "outputs": [],
   "metadata": {}
  },
  {
   "cell_type": "code",
   "execution_count": null,
   "source": [
    "front_ref = analytic_model.evaluate(48.087, 23.872, 27, 30, 20, \"1920x1080\", 1, 0.5)\n",
    "front_left_ref = analytic_model.evaluate(49.67, 25.685, 27, 30, 20, \"1920x1080\", 1, 0.5)\n",
    "front_right_ref = analytic_model.evaluate(48.746, 25.258, 29, 30, 20, \"1920x1080\", 1, 0.5)\n",
    "rear_ref = analytic_model.evaluate(59.187, 30.609, 27, 15, 20, \"1600x900\", 1, 0.5)\n",
    "rear_left_ref = analytic_model.evaluate(56.142, 23.811, 31, 15, 20, \"1600x900\", 1, 0.5)\n",
    "rear_right_ref = analytic_model.evaluate(57.722, 29.126, 27, 15, 20, \"1280x720\", 1, 0.5)"
   ],
   "outputs": [],
   "metadata": {}
  },
  {
   "cell_type": "code",
   "execution_count": null,
   "source": [
    "print(front_right_ref - analytic_model.evaluate(48.746, 25.258, 27, 30, 20, \"1920x1080\", 3, 0.48))\n",
    "print(rear_left_ref - analytic_model.evaluate(56.142, 23.811, 27, 15, 20, \"1600x900\", 3, 0.65))"
   ],
   "outputs": [],
   "metadata": {}
  },
  {
   "cell_type": "code",
   "execution_count": null,
   "source": [
    "data_files = list(Path.cwd().joinpath(\"notebooks\").joinpath(\"data-hd\").glob(\"*.csv\"))\n",
    "max_parameter = MaxBitrateParameter(w_max=1920, h_max=1080)\n",
    "dfw_train = DataFrameWrapper(read_df_by_keys(data_files, KEYS.TRAINING_SET), max_parameter)\n",
    "dfw_val = DataFrameWrapper(read_df_by_keys(data_files, KEYS.VALIDATION_SET), max_parameter)"
   ],
   "outputs": [],
   "metadata": {}
  },
  {
   "cell_type": "code",
   "execution_count": null,
   "source": [
    "ml_filter_model = MLPreprocessorModel.from_dfw([1], [0.5], dfw_train, dfw_val, model)"
   ],
   "outputs": [],
   "metadata": {}
  },
  {
   "cell_type": "code",
   "execution_count": null,
   "source": [
    "front_ref = ml_filter_model.predict_rate(48.087, 23.872, 27, 30, 20, \"1920x1080\", 1, 0.5)\n",
    "front_left_ref = ml_filter_model.predict_rate(49.67, 25.685, 27, 30, 20, \"1920x1080\", 1, 0.5)\n",
    "front_right_ref = ml_filter_model.predict_rate(48.746, 25.258, 29, 30, 20, \"1920x1080\", 1, 0.5)\n",
    "rear_ref = ml_filter_model.predict_rate(59.187, 30.609, 27, 15, 20, \"1600x900\", 1, 0.5)\n",
    "rear_left_ref = ml_filter_model.predict_rate(56.142, 23.811, 31, 15, 20, \"1600x900\", 1, 0.5)\n",
    "rear_right_ref = ml_filter_model.predict_rate(57.722, 29.126, 27, 15, 20, \"1280x720\", 1, 0.5)"
   ],
   "outputs": [],
   "metadata": {}
  },
  {
   "cell_type": "code",
   "execution_count": null,
   "source": [
    "print(0.001 * (front_right_ref - ml_filter_model.predict_rate(48.746, 25.258, 27, 30, 20, \"1920x1080\", 3, 0.87)))\n",
    "print(0.001 * (rear_left_ref - ml_filter_model.predict_rate(56.142, 23.811, 27, 15, 20, \"1600x900\", 5, 1.65)))"
   ],
   "outputs": [],
   "metadata": {}
  }
 ],
 "metadata": {
  "orig_nbformat": 4,
  "kernelspec": {
   "name": "python3",
   "display_name": "Python 3 (ipykernel)",
   "language": "python"
  },
  "language_info": {
   "name": "python",
   "version": "3.7.5",
   "mimetype": "text/x-python",
   "codemirror_mode": {
    "name": "ipython",
    "version": 3
   },
   "pygments_lexer": "ipython3",
   "nbconvert_exporter": "python",
   "file_extension": ".py"
  }
 },
 "nbformat": 4,
 "nbformat_minor": 2
}
