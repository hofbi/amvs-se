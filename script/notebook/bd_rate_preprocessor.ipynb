{
 "cells": [
  {
   "cell_type": "code",
   "execution_count": null,
   "source": [
    "%load_ext autoreload"
   ],
   "outputs": [],
   "metadata": {
    "collapsed": true
   }
  },
  {
   "cell_type": "code",
   "execution_count": null,
   "source": [
    "%autoreload 2\n",
    "\n",
    "import sys\n",
    "from pathlib import Path\n",
    "import pandas as pd\n",
    "import matplotlib.pyplot as plt\n",
    "\n",
    "try:\n",
    "    sys.path.append(str(Path().cwd().parent))\n",
    "except IndexError:\n",
    "    pass\n",
    "\n",
    "# from util... import *"
   ],
   "outputs": [],
   "metadata": {
    "collapsed": false,
    "pycharm": {
     "name": "#%%\n"
    }
   }
  },
  {
   "cell_type": "code",
   "execution_count": null,
   "source": [
    "STATS_FILE = Path.cwd().parent / \"util\" / \"quality-bd-bus.csv\"\n",
    "\n",
    "df = pd.read_csv(STATS_FILE)"
   ],
   "outputs": [],
   "metadata": {
    "collapsed": false,
    "pycharm": {
     "name": "#%%\n"
    }
   }
  },
  {
   "cell_type": "code",
   "execution_count": null,
   "source": [
    "def plot_bd_rate(df):\n",
    "    \"\"\"Plot single BD rate\"\"\"\n",
    "    plt.plot(df.bitrate, df.psnr)\n",
    "    plt.scatter(df.bitrate, df.psnr)\n",
    "    # plt.plot(df.bitrate, df.ssim)\n",
    "    # plt.plot(df.bitrate, df.vmaf)\n",
    "    labels = [int(qp) for qp in df.qp]\n",
    "    labels.reverse()\n",
    "    plt.title(\"BD-rate of bus (bitrate [kbit/s]) + filter k = 3, sigma = 1.5\")\n",
    "    # plt.title(\"BD-rate of bus (bitrate [kbit/s]) + qp 38 prep\")\n",
    "    plt.ylabel(\"PSNR [db]\")\n",
    "    plt.xlabel(labels)\n",
    "    plt.savefig(\"bus-bd-filter.png\")\n",
    "    # plt.savefig(\"bus-bd-bus-38.png\")\n",
    "\n",
    "\n",
    "def plot_bd_rate_gauss(df):\n",
    "    \"\"\"Plot single BD for multiple filters\"\"\"\n",
    "    for key, grp in df.groupby([\"k_size\"]):\n",
    "        plt.plot(grp[\"bitrate\"], grp[\"psnr\"], label=f\"kernel size: {int(key)}\")\n",
    "        plt.scatter(grp[\"bitrate\"], grp[\"psnr\"])\n",
    "    labels = [float(sigma) for sigma in pd.unique(df.sigma)]\n",
    "    labels.reverse()\n",
    "    plt.xlabel(labels)\n",
    "    plt.legend()\n",
    "    plt.title(\"BD-rate of bus (bitrate [kbit/s]) Gauss filter + QP 24\")\n",
    "    plt.savefig(\"bus-bd-gauss.png\")"
   ],
   "outputs": [],
   "metadata": {}
  },
  {
   "cell_type": "code",
   "execution_count": null,
   "source": [
    "plot_bd_rate(df)"
   ],
   "outputs": [],
   "metadata": {}
  }
 ],
 "metadata": {
  "kernelspec": {
   "name": "python3",
   "language": "python",
   "display_name": "Python 3"
  },
  "language_info": {
   "codemirror_mode": {
    "name": "ipython",
    "version": 2
   },
   "file_extension": ".py",
   "mimetype": "text/x-python",
   "name": "python",
   "nbconvert_exporter": "python",
   "pygments_lexer": "ipython2",
   "version": "3.6.9-final"
  }
 },
 "nbformat": 4,
 "nbformat_minor": 2
}