{
 "cells": [
  {
   "cell_type": "code",
   "execution_count": null,
   "metadata": {},
   "outputs": [],
   "source": [
    "%load_ext autoreload"
   ]
  },
  {
   "cell_type": "code",
   "execution_count": null,
   "metadata": {
    "pycharm": {
     "name": "#%%\n"
    }
   },
   "outputs": [],
   "source": [
    "%autoreload 2\n",
    "\n",
    "import sys\n",
    "from pathlib import Path\n",
    "import matplotlib.pyplot as plt\n",
    "import tikzplotlib\n",
    "\n",
    "try:\n",
    "    sys.path.append(str(Path().cwd().parent))\n",
    "except IndexError:\n",
    "    pass\n",
    "\n",
    "from external.bjontegaard_metrics.bj_delta import *\n",
    "from cqp.bitrate_model.util import *"
   ]
  },
  {
   "cell_type": "code",
   "execution_count": null,
   "metadata": {
    "pycharm": {
     "name": "#%%\n"
    }
   },
   "outputs": [],
   "source": [
    "BASE_PATH = Path.cwd().parent / \"util\" / \"bd-gop-1\"\n",
    "METRIC = \"vmaf\"\n",
    "\n",
    "BITRATE_MAX_LIM = 8000\n",
    "\n",
    "all_files = list(BASE_PATH.glob(\"*.csv\"))\n",
    "\n",
    "df_baseline = pd.read_csv(BASE_PATH / \"quality-none-1-05.csv\")"
   ]
  },
  {
   "cell_type": "code",
   "execution_count": null,
   "metadata": {},
   "outputs": [],
   "source": [
    "def fix_label_string(label: str) -> str:\n",
    "    return label.replace(\"-05\", \"\") if \"gauss\" not in label else label\n",
    "\n",
    "\n",
    "def calc_avg_over_multiple_videos(df: pd.DataFrame) -> pd.DataFrame:\n",
    "    \"\"\"Calculate the average bitrate and quality scores over multiple videos\"\"\"\n",
    "    return df.groupby(by=[KEYS.QP, KEYS.KSIZE, KEYS.SIGMA]).mean().reset_index()\n",
    "\n",
    "\n",
    "def plot_rd_curve(df, label):\n",
    "    \"\"\"Plot single RD curve\"\"\"\n",
    "    # Remove sigma if not gauss\n",
    "    label = fix_label_string(label)\n",
    "    df = calc_avg_over_multiple_videos(df)\n",
    "    plt.plot(df.bitrate, df[METRIC], label=label)\n",
    "    plt.scatter(df.bitrate, df[METRIC])\n",
    "    plt.ylabel(METRIC.upper())\n",
    "    plt.xlabel(f\"Bitrate [kbit/s] (QP $\\in$ [{int(df.qp.max())}, ..., {int(df.qp.min())}])\")\n",
    "    plt.xlim(0, BITRATE_MAX_LIM)\n",
    "\n",
    "\n",
    "def plot_rd_curves(df_files):\n",
    "    for file in df_files:\n",
    "        plot_rd_curve(pd.read_csv(BASE_PATH / file), get_label_from_file_name(file))\n",
    "    plt.legend()\n",
    "\n",
    "\n",
    "def plot_rd_plane(df, filter_param):\n",
    "    df = calc_avg_over_multiple_videos(df)\n",
    "    fig = plt.figure()\n",
    "    ax = fig.add_subplot(111, projection='3d')\n",
    "    df = df.sort_values(by=[KEYS.SIGMA, KEYS.KSIZE, KEYS.QP])\n",
    "    qp_len = len(pd.unique(df.qp))\n",
    "    filter_param_len = int(df.shape[0] / qp_len)\n",
    "    bitrate = np.reshape(df.bitrate.to_numpy(), (filter_param_len, qp_len))\n",
    "    quality = np.reshape(df[METRIC].to_numpy(), (int(df.shape[0] / qp_len), qp_len))\n",
    "    for i in range(filter_param_len):\n",
    "        ax.scatter3D(bitrate[i], bitrate[i], quality[i])\n",
    "    plt.xlabel(f\"Bitrate [kbit/s] (QP $\\in$ [{int(df.qp.max())}, ..., {int(df.qp.min())}])\")\n",
    "    plt.ylabel(f\"Bitrate [kbit/s] ({filter_param})\")\n",
    "    ax.set_zlabel(METRIC.upper(), rotation=90)\n",
    "\n",
    "\n",
    "def plot_rd_curve_filter(df):\n",
    "    \"\"\"Plot RD curve for multiple filter params\"\"\"\n",
    "    df = calc_avg_over_multiple_videos(df)\n",
    "    grouped = df.groupby([KEYS.QP])\n",
    "    for key in grouped.groups.keys():\n",
    "        group = grouped.get_group(key).sort_values(by=[KEYS.BITRATE])\n",
    "        plt.scatter(group.bitrate, group[METRIC])\n",
    "        plt.plot(group.bitrate, group[METRIC])\n",
    "    plt.xlim(0, BITRATE_MAX_LIM)\n",
    "\n",
    "\n",
    "def extend_data_by_quality_cost_and_rate_savings(df, df_baseline):\n",
    "    df = calc_avg_over_multiple_videos(df)\n",
    "    df_baseline = calc_avg_over_multiple_videos(df_baseline)\n",
    "    df[\"savings\"] = df_baseline.sort_values(by=KEYS.QP).bitrate - df.sort_values(by=KEYS.QP).bitrate\n",
    "    df[\"cost\"] = df_baseline.sort_values(by=KEYS.QP)[METRIC] - df.sort_values(by=KEYS.QP)[METRIC]\n",
    "    return df\n",
    "\n",
    "\n",
    "def extend_all_by_cost_and_savings(df_files, df_baseline):\n",
    "    return pd.concat([\n",
    "        extend_data_by_quality_cost_and_rate_savings(pd.read_csv(BASE_PATH / file), df_baseline)\n",
    "        for file in df_files\n",
    "    ])\n",
    "\n",
    "\n",
    "def plot_quality_cost_over_rate_savings(df, label):\n",
    "    label = fix_label_string(label)\n",
    "    plt.scatter(df.savings, df.cost, label=label)\n",
    "    labels = [int(qp) for qp in df.qp]\n",
    "    labels.reverse()\n",
    "    plt.xlabel(f\"$\\Delta$ Bitrate [kbit/s] (QP $\\in$ [{int(df.qp.min())}, ..., {int(df.qp.max())}])\")\n",
    "    plt.ylabel(f\"$\\Delta$ {METRIC.upper()}\")\n",
    "    plt.xlim(-250, 5000)\n",
    "    plt.legend()\n",
    "\n",
    "\n",
    "def plot_cost_savings(df_files, df_baseline):\n",
    "    df_base_extended = extend_data_by_quality_cost_and_rate_savings(df_baseline, df_baseline)\n",
    "    plot_quality_cost_over_rate_savings(df_base_extended, \"none\")\n",
    "    for file in df_files:\n",
    "        df = pd.read_csv(BASE_PATH / file)\n",
    "        df = extend_data_by_quality_cost_and_rate_savings(df, df_baseline)\n",
    "        plot_quality_cost_over_rate_savings(df, get_label_from_file_name(file))\n",
    "\n",
    "\n",
    "def plot_cost_savings_filter(df_files, df_baseline):\n",
    "    df = extend_all_by_cost_and_savings(df_files, df_baseline)\n",
    "    grouped = df.groupby([KEYS.QP])\n",
    "    for key in grouped.groups.keys():\n",
    "        group = grouped.get_group(key).sort_values(by=[\"savings\"])\n",
    "        plt.scatter(group.savings, group.cost)\n",
    "        plt.plot(group.savings, group.cost)\n",
    "\n",
    "\n",
    "def plot_bd_over_qp(df, key_rate=KEYS.BITRATE, key_quality=METRIC):\n",
    "    plt.scatter(df.qp, df[key_quality], label=f\"BD-{key_quality.upper()}\")\n",
    "    plt.plot(df.qp, df[key_quality])\n",
    "    plt.scatter(df.qp, df[key_rate], label=\"BD-Rate [$\\%$]\")\n",
    "    plt.plot(df.qp, df[key_rate])\n",
    "    plt.axhline(0, color=\"gray\")\n",
    "    plt.xlabel(\"QP\")\n",
    "    plt.ylabel(\"BD\")\n",
    "    plt.legend()\n",
    "    print(\n",
    "        f\"BD-{key_quality.upper()} and BD-Rate over QP\\n\"\n",
    "        f\"Avg.: BD-{key_quality.upper()}: {df[key_quality].mean():.2f}, BD-Rate: {df[key_rate].mean():.2f}\"\n",
    "    )\n",
    "\n",
    "\n",
    "def print_bj_delta(df_one, df_two):\n",
    "    print(\"BD-PSNR: \", bj_delta(df_one.bitrate, df_one.psnr, df_two.bitrate, df_two.psnr, mode=0))\n",
    "    print(\"BD-RATE: \", bj_delta(df_one.bitrate, df_one.psnr, df_two.bitrate, df_two.psnr, mode=1))\n",
    "\n",
    "    print(\"BD-SSIM: \", bj_delta(df_one.bitrate, df_one.ssim, df_two.bitrate, df_two.ssim, mode=0))\n",
    "    print(\"BD-RATE: \", bj_delta(df_one.bitrate, df_one.ssim, df_two.bitrate, df_two.ssim, mode=1))\n",
    "\n",
    "    print(\"BD-VMAF: \", bj_delta(df_one.bitrate, df_one.vmaf, df_two.bitrate, df_two.vmaf, mode=0))\n",
    "    print(\"BD-RATE: \", bj_delta(df_one.bitrate, df_one.vmaf, df_two.bitrate, df_two.vmaf, mode=1))\n",
    "\n",
    "\n",
    "def calc_avg_bd_per_qp(df_one, df_two, key_rate=KEYS.BITRATE, key_quality=METRIC):\n",
    "    grouped_one = df_one.groupby([KEYS.QP])\n",
    "    grouped_two = df_two.groupby([KEYS.QP])\n",
    "    df_bd = {\"qp\": [], key_quality: [], key_rate: []}\n",
    "    for one, two in zip(grouped_one.groups.keys(), grouped_two.groups.keys()):\n",
    "        group_one = grouped_one.get_group(one).sort_values(by=[key_rate])\n",
    "        group_two = grouped_two.get_group(two).sort_values(by=[key_rate])\n",
    "        df_bd[\"qp\"].append(group_one.qp.values[0])\n",
    "        df_bd[key_quality].append(\n",
    "            bj_delta(group_one[key_rate].values, group_one[key_quality].values, group_two[key_rate].values, group_two[key_quality].values, mode=0)\n",
    "        )\n",
    "        df_bd[key_rate].append(\n",
    "            bj_delta(group_one[key_rate].values, group_one[key_quality].values, group_two[key_rate].values, group_two[key_quality].values, mode=1)\n",
    "        )\n",
    "    return pd.DataFrame(df_bd)\n",
    "\n",
    "\n",
    "def get_label_from_file_name(name):\n",
    "    return str(Path(name).stem).split(\"-\",1)[1]\n",
    "\n",
    "\n",
    "def save_plot(name):\n",
    "    path = BASE_PATH / name\n",
    "    plt.savefig(path.with_suffix(\".png\"))\n",
    "    plt.savefig(path.with_suffix(\".pdf\"))\n",
    "    tikzplotlib.save(path.with_suffix(\".tex\"))\n",
    "\n",
    "\n",
    "def calculate_mscr(df_cost_savings):\n",
    "    max_cost_savings = df_cost_savings.groupby([KEYS.KSIZE, KEYS.SIGMA]).max()\n",
    "    return np.log10((max_cost_savings.savings / max_cost_savings.cost).mean())"
   ]
  },
  {
   "cell_type": "code",
   "execution_count": null,
   "metadata": {
    "pycharm": {
     "name": "#%%\n"
    }
   },
   "outputs": [],
   "source": [
    "plot_rd_curve(df_baseline, \"none\")\n",
    "files_jpeg = [\"quality-jpeg-10-05.csv\", \"quality-jpeg-20-05.csv\", \"quality-jpeg-40-05.csv\", \"quality-jpeg-60-05.csv\"]\n",
    "plot_rd_curves(files_jpeg)\n",
    "save_plot(\"rd-jpeg\")"
   ]
  },
  {
   "cell_type": "code",
   "execution_count": null,
   "metadata": {
    "pycharm": {
     "name": "#%%\n"
    }
   },
   "outputs": [],
   "source": [
    "plot_rd_curve(df_baseline, \"none\")\n",
    "files_gauss_3 = [\"quality-gauss-3-05.csv\", \"quality-gauss-3-06.csv\", \"quality-gauss-3-07.csv\", \"quality-gauss-3-08.csv\", \"quality-gauss-3-10.csv\", \"quality-gauss-3-15.csv\"]\n",
    "plot_rd_curves(files_gauss_3)\n",
    "save_plot(\"rd-gauss-3\")"
   ]
  },
  {
   "cell_type": "code",
   "execution_count": null,
   "metadata": {
    "pycharm": {
     "name": "#%%\n"
    }
   },
   "outputs": [],
   "source": [
    "plot_rd_curve(df_baseline, \"none\")\n",
    "files_gauss_5 = [\"quality-gauss-5-05.csv\", \"quality-gauss-5-06.csv\", \"quality-gauss-5-07.csv\", \"quality-gauss-5-08.csv\", \"quality-gauss-5-10.csv\", \"quality-gauss-5-15.csv\"]\n",
    "plot_rd_curves(files_gauss_5)\n",
    "save_plot(\"rd-gauss-5\")"
   ]
  },
  {
   "cell_type": "code",
   "execution_count": null,
   "metadata": {
    "pycharm": {
     "name": "#%%\n"
    }
   },
   "outputs": [],
   "source": [
    "plot_rd_curve(df_baseline, \"none\")\n",
    "files_median = [\"quality-median-3-05.csv\", \"quality-median-5-05.csv\", \"quality-median-7-05.csv\", \"quality-median-9-05.csv\"]\n",
    "plot_rd_curves(files_median)\n",
    "save_plot(\"rd-median\")"
   ]
  },
  {
   "cell_type": "code",
   "execution_count": null,
   "metadata": {
    "pycharm": {
     "name": "#%%\n"
    }
   },
   "outputs": [],
   "source": [
    "df_jpeg = read_df_by_keys(all_files, [\"quality-jpeg\"])\n",
    "df_gauss_3 = read_df_by_keys(all_files, [\"quality-gauss-3\"])\n",
    "df_gauss_5 = read_df_by_keys(all_files, [\"quality-gauss-5\"])\n",
    "df_median = read_df_by_keys(all_files, [\"quality-median\"])"
   ]
  },
  {
   "cell_type": "code",
   "execution_count": null,
   "metadata": {
    "pycharm": {
     "name": "#%%\n"
    }
   },
   "outputs": [],
   "source": [
    "plot_rd_curve(df_baseline, \"none\")\n",
    "plot_rd_curve_filter(df_jpeg)\n",
    "save_plot(\"rd-jpeg-qp\")"
   ]
  },
  {
   "cell_type": "code",
   "execution_count": null,
   "metadata": {
    "pycharm": {
     "name": "#%%\n"
    }
   },
   "outputs": [],
   "source": [
    "plot_rd_plane(pd.concat([df_baseline, df_jpeg]), \"$Q\\in$[10,20,40,60]\")\n",
    "save_plot(\"rdp-jpeg\")"
   ]
  },
  {
   "cell_type": "code",
   "execution_count": null,
   "metadata": {
    "pycharm": {
     "name": "#%%\n"
    }
   },
   "outputs": [],
   "source": [
    "plot_rd_curve(df_baseline, \"none\")\n",
    "plot_rd_curve_filter(df_gauss_3)\n",
    "save_plot(\"rd-gauss-3-qp\")"
   ]
  },
  {
   "cell_type": "code",
   "execution_count": null,
   "metadata": {
    "pycharm": {
     "name": "#%%\n"
    }
   },
   "outputs": [],
   "source": [
    "plot_rd_plane(pd.concat([df_baseline, df_gauss_3]), \"$\\sigma\\in$[0.5,...,1.5]\")\n",
    "save_plot(\"rdp-gauss-3\")"
   ]
  },
  {
   "cell_type": "code",
   "execution_count": null,
   "metadata": {
    "pycharm": {
     "name": "#%%\n"
    }
   },
   "outputs": [],
   "source": [
    "plot_rd_curve(df_baseline, \"none\")\n",
    "plot_rd_curve_filter(df_gauss_5)\n",
    "save_plot(\"rd-gauss-5-qp\")"
   ]
  },
  {
   "cell_type": "code",
   "execution_count": null,
   "metadata": {
    "pycharm": {
     "name": "#%%\n"
    }
   },
   "outputs": [],
   "source": [
    "gauss_5_plane = pd.concat([df_baseline, df_gauss_5])\n",
    "plot_rd_plane(gauss_5_plane, \"$\\sigma\\in$[0.5,...,1.5]\")\n",
    "save_plot(\"rdp-gauss-5\")"
   ]
  },
  {
   "cell_type": "code",
   "execution_count": null,
   "metadata": {
    "pycharm": {
     "name": "#%%\n"
    }
   },
   "outputs": [],
   "source": [
    "plot_rd_curve(df_baseline, \"none\")\n",
    "plot_rd_curve_filter(df_median)\n",
    "save_plot(\"rd-median-qp\")"
   ]
  },
  {
   "cell_type": "code",
   "execution_count": null,
   "metadata": {
    "pycharm": {
     "name": "#%%\n"
    }
   },
   "outputs": [],
   "source": [
    "median_plane = pd.concat([df_baseline, df_median])\n",
    "plot_rd_plane(median_plane, \"$k\\in$[3,5,7,9]\")\n",
    "save_plot(\"rdp-median\")"
   ]
  },
  {
   "cell_type": "code",
   "execution_count": null,
   "metadata": {
    "pycharm": {
     "name": "#%%\n"
    }
   },
   "outputs": [],
   "source": [
    "plot_cost_savings(files_jpeg, df_baseline)\n",
    "save_plot(\"cost-jpeg\")"
   ]
  },
  {
   "cell_type": "code",
   "execution_count": null,
   "metadata": {
    "pycharm": {
     "name": "#%%\n"
    }
   },
   "outputs": [],
   "source": [
    "plot_cost_savings_filter(files_jpeg, df_baseline)\n",
    "save_plot(\"cost-jpeg-qp\")"
   ]
  },
  {
   "cell_type": "code",
   "execution_count": null,
   "metadata": {
    "pycharm": {
     "name": "#%%\n"
    }
   },
   "outputs": [],
   "source": [
    "plot_cost_savings(files_gauss_3, df_baseline)\n",
    "save_plot(\"cost-gauss-3\")"
   ]
  },
  {
   "cell_type": "code",
   "execution_count": null,
   "metadata": {
    "pycharm": {
     "name": "#%%\n"
    }
   },
   "outputs": [],
   "source": [
    "plot_cost_savings_filter(files_gauss_3, df_baseline)\n",
    "save_plot(\"cost-gauss-3-qp\")"
   ]
  },
  {
   "cell_type": "code",
   "execution_count": null,
   "metadata": {
    "pycharm": {
     "name": "#%%\n"
    }
   },
   "outputs": [],
   "source": [
    "plot_cost_savings(files_gauss_5, df_baseline)\n",
    "save_plot(\"cost-gauss-5\")"
   ]
  },
  {
   "cell_type": "code",
   "execution_count": null,
   "metadata": {
    "pycharm": {
     "name": "#%%\n"
    }
   },
   "outputs": [],
   "source": [
    "plot_cost_savings_filter(files_gauss_5, df_baseline)\n",
    "save_plot(\"cost-gauss-5-qp\")"
   ]
  },
  {
   "cell_type": "code",
   "execution_count": null,
   "metadata": {
    "pycharm": {
     "name": "#%%\n"
    }
   },
   "outputs": [],
   "source": [
    "plot_cost_savings(files_median, df_baseline)\n",
    "save_plot(\"cost-median\")"
   ]
  },
  {
   "cell_type": "code",
   "execution_count": null,
   "metadata": {
    "pycharm": {
     "name": "#%%\n"
    }
   },
   "outputs": [],
   "source": [
    "plot_cost_savings_filter(files_median, df_baseline)\n",
    "save_plot(\"cost-median-qp\")"
   ]
  },
  {
   "cell_type": "code",
   "execution_count": null,
   "metadata": {
    "pycharm": {
     "name": "#%%\n"
    }
   },
   "outputs": [],
   "source": [
    "df_jpeg_cost_savings = extend_all_by_cost_and_savings(files_jpeg, df_baseline)\n",
    "df_gauss_3_cost_savings = extend_all_by_cost_and_savings(files_gauss_3, df_baseline)\n",
    "df_gauss_5_cost_savings = extend_all_by_cost_and_savings(files_gauss_5, df_baseline)\n",
    "df_median_cost_savings = extend_all_by_cost_and_savings(files_median, df_baseline)"
   ]
  },
  {
   "cell_type": "code",
   "execution_count": null,
   "metadata": {
    "pycharm": {
     "name": "#%%\n"
    }
   },
   "outputs": [],
   "source": [
    "bd_gauss_3_jpeg = calc_avg_bd_per_qp(df_gauss_3, df_jpeg)\n",
    "plt.ylim(-40, 60)  # Hard overshooting comes from jpeg\n",
    "plot_bd_over_qp(bd_gauss_3_jpeg)\n",
    "save_plot(\"bd-gauss-3-jpeg\")"
   ]
  },
  {
   "cell_type": "code",
   "execution_count": null,
   "metadata": {
    "pycharm": {
     "name": "#%%\n"
    }
   },
   "outputs": [],
   "source": [
    "bd_gauss_3_gauss_5 = calc_avg_bd_per_qp(df_gauss_3, df_gauss_5)\n",
    "plot_bd_over_qp(bd_gauss_3_gauss_5)\n",
    "save_plot(\"bd-gauss-3-gauss-5\")"
   ]
  },
  {
   "cell_type": "code",
   "execution_count": null,
   "metadata": {
    "pycharm": {
     "name": "#%%\n"
    }
   },
   "outputs": [],
   "source": [
    "bd_gauss_3_gauss_5_cost_savings = calc_avg_bd_per_qp(df_gauss_3_cost_savings, df_gauss_5_cost_savings, key_rate=\"savings\", key_quality=\"cost\")\n",
    "plot_bd_over_qp(bd_gauss_3_gauss_5_cost_savings, key_rate=\"savings\", key_quality=\"cost\")"
   ]
  },
  {
   "cell_type": "code",
   "execution_count": null,
   "metadata": {
    "pycharm": {
     "name": "#%%\n"
    }
   },
   "outputs": [],
   "source": [
    "bd_gauss_3_median = calc_avg_bd_per_qp(df_gauss_3, df_median)\n",
    "plot_bd_over_qp(bd_gauss_3_median)\n",
    "save_plot(\"bd-gauss-3-median\")"
   ]
  },
  {
   "cell_type": "code",
   "execution_count": null,
   "metadata": {
    "pycharm": {
     "name": "#%%\n"
    }
   },
   "outputs": [],
   "source": [
    "bd_gauss_3_median_cost_savings = calc_avg_bd_per_qp(df_gauss_3_cost_savings, df_median_cost_savings, key_rate=\"savings\", key_quality=\"cost\")\n",
    "plot_bd_over_qp(bd_gauss_3_median_cost_savings, key_rate=\"savings\", key_quality=\"cost\")"
   ]
  },
  {
   "cell_type": "code",
   "execution_count": null,
   "metadata": {
    "pycharm": {
     "name": "#%%\n"
    }
   },
   "outputs": [],
   "source": [
    "print(f\"MSCR JPEG:    {calculate_mscr(df_jpeg_cost_savings):.2f}\")\n",
    "print(f\"MSCR Gauss-3: {calculate_mscr(df_gauss_3_cost_savings):.2f}\")\n",
    "print(f\"MSCR Gauss-5: {calculate_mscr(df_gauss_5_cost_savings):.2f}\")\n",
    "print(f\"MSCR Median:  {calculate_mscr(df_median_cost_savings):.2f}\")"
   ]
  }
 ],
 "metadata": {
  "kernelspec": {
   "display_name": "Python 3",
   "language": "python",
   "name": "python3"
  },
  "language_info": {
   "codemirror_mode": {
    "name": "ipython",
    "version": 2
   },
   "file_extension": ".py",
   "mimetype": "text/x-python",
   "name": "python",
   "nbconvert_exporter": "python",
   "pygments_lexer": "ipython2",
   "version": "3.6.9-final"
  }
 },
 "nbformat": 4,
 "nbformat_minor": 2
}
