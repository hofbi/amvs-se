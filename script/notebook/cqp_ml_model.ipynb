{
 "nbformat": 4,
 "nbformat_minor": 0,
 "metadata": {
  "colab": {
   "name": "bitrate_with_resolution.ipynb",
   "provenance": [],
   "collapsed_sections": []
  },
  "kernelspec": {
   "name": "python3",
   "display_name": "Python 3",
   "language": "python"
  }
 },
 "cells": [
  {
   "cell_type": "code",
   "execution_count": null,
   "metadata": {},
   "outputs": [],
   "source": [
    "%load_ext autoreload"
   ]
  },
  {
   "cell_type": "code",
   "metadata": {
    "id": "ELQ6VyX58xw-"
   },
   "source": [
    "%autoreload 2\n",
    "\n",
    "import sys\n",
    "import time\n",
    "from pathlib import Path\n",
    "\n",
    "try:\n",
    "    sys.path.append(str(Path().cwd().parent))\n",
    "except IndexError:\n",
    "    pass\n",
    "\n",
    "from cqp.bitrate_model.plot import *\n",
    "from cqp.bitrate_model.util import *\n",
    "from cqp.cqp_ml_model_train import *"
   ],
   "execution_count": null,
   "outputs": []
  },
  {
   "cell_type": "code",
   "execution_count": null,
   "metadata": {},
   "outputs": [],
   "source": [
    "MODEL_PATH = \"cqp/models/x264-cif.h5\"\n",
    "\n",
    "max_parameter = MaxBitrateParameter()"
   ]
  },
  {
   "cell_type": "code",
   "metadata": {
    "id": "LC1akWdb_Bqx"
   },
   "source": [
    "data_files = list(Path.cwd().joinpath(\"notebooks\").joinpath(\"data\").glob(\"*.csv\"))\n",
    "\n",
    "dfw = DataFrameWrapper(read_df_by_keys(data_files, KEYS.TRAINING_SET), max_parameter)\n",
    "dfw_val = DataFrameWrapper(read_df_by_keys(data_files, KEYS.VALIDATION_SET), max_parameter)\n",
    "dfw_test = DataFrameWrapper(read_df_by_keys(data_files, KEYS.TEST_SET), max_parameter)"
   ],
   "execution_count": null,
   "outputs": []
  },
  {
   "cell_type": "code",
   "execution_count": null,
   "metadata": {},
   "outputs": [],
   "source": [
    "dfw_test_reduced = DataFrameWrapper(dfw_test.include(variable_qp=True, variable_rate=True), max_parameter)"
   ]
  },
  {
   "cell_type": "code",
   "execution_count": null,
   "metadata": {},
   "outputs": [],
   "source": [
    "video_keys = dfw.video_keys\n",
    "val_video_keys = dfw_val.video_keys\n",
    "test_video_keys = dfw_test.video_keys\n",
    "\n",
    "ax = plt.gca()\n",
    "plot_sa_ta(ax, dfw.df, video_keys, \"Training\")\n",
    "plot_sa_ta(ax, dfw_val.df, val_video_keys, \"Validation\", marker=\"s\")\n",
    "plot_sa_ta(ax, dfw_test.df, test_video_keys, \"Test\", marker=\"d\")\n",
    "plt.legend(loc=\"lower right\")\n",
    "\n",
    "tikzplotlib.save(\"notebooks/sata_cif.tex\")"
   ]
  },
  {
   "cell_type": "code",
   "metadata": {
    "id": "bZKcKhmJ_RJe"
   },
   "source": [
    "in_train = dfw.get_ml_input()\n",
    "in_val = dfw_val.get_ml_input()\n",
    "\n",
    "out_train = dfw.get_ml_output()\n",
    "out_val = dfw_val.get_ml_output()"
   ],
   "execution_count": null,
   "outputs": []
  },
  {
   "cell_type": "code",
   "execution_count": null,
   "metadata": {},
   "outputs": [],
   "source": [
    "input_scaler = StandardScaler().fit(np.concatenate([in_train, in_val], axis=0))\n",
    "output_scaler = StandardScaler().fit(np.concatenate([out_train, out_val], axis=0))"
   ]
  },
  {
   "cell_type": "code",
   "execution_count": null,
   "metadata": {},
   "outputs": [],
   "source": [
    "model = tf.keras.models.load_model(MODEL_PATH)\n",
    "model.summary()"
   ]
  },
  {
   "cell_type": "code",
   "execution_count": null,
   "metadata": {},
   "outputs": [],
   "source": [
    "validate(model, dfw, input_scaler, output_scaler, \"training\")"
   ]
  },
  {
   "cell_type": "code",
   "execution_count": null,
   "metadata": {},
   "outputs": [],
   "source": [
    "validate(model, dfw_val, input_scaler, output_scaler, \"validation\")"
   ]
  },
  {
   "cell_type": "code",
   "metadata": {
    "colab": {
     "base_uri": "https://localhost:8080/"
    },
    "id": "6jGq-ovABfg3",
    "outputId": "4e962a04-1934-4311-8abc-1715441eaf2c",
    "pycharm": {
     "name": "#%%\n"
    }
   },
   "source": [
    "validate(model, dfw_test, input_scaler, output_scaler, \"test\")"
   ],
   "execution_count": null,
   "outputs": []
  },
  {
   "cell_type": "code",
   "execution_count": null,
   "metadata": {},
   "outputs": [],
   "source": [
    "dfw_all = pd.concat([dfw.df, dfw_test.df])\n",
    "validate(model, DataFrameWrapper(dfw_all, max_parameter), input_scaler, output_scaler, \"all\")"
   ]
  },
  {
   "cell_type": "code",
   "execution_count": null,
   "metadata": {},
   "outputs": [],
   "source": [
    "dfw_single = DataFrameWrapper(read_df_by_keys(data_files, [KEYS.SINGLE_VIDEO]), max_parameter)\n",
    "in_test = input_scaler.transform(dfw_single.get_ml_input())\n",
    "in_test = tf.convert_to_tensor(in_test, dtype=tf.float32)\n",
    "\n",
    "# Measure prediction time\n",
    "start = time.time()\n",
    "model.predict(in_test)\n",
    "end = time.time()\n",
    "print(f\"Average runtime ML model: {(end - start) / len(in_test)}s\")\n",
    "\n",
    "output = model.predict(in_test)\n",
    "out_prediction = output_scaler.inverse_transform(output)"
   ]
  },
  {
   "cell_type": "code",
   "execution_count": null,
   "metadata": {},
   "outputs": [],
   "source": [
    "bitrate_measured = dfw_single.get_ml_output()\n",
    "plot_bitrates(np.transpose(bitrate_measured) * 0.001, np.transpose(out_prediction) * 0.001, KEYS.SINGLE_VIDEO)\n",
    "save_plot(KEYS.SINGLE_VIDEO, Path(\"notebooks\"))"
   ]
  }
 ]
}