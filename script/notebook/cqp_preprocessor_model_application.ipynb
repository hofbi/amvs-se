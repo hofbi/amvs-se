{
 "metadata": {
  "orig_nbformat": 2,
  "kernelspec": {
   "name": "python3",
   "language": "python",
   "display_name": "Python 3 (ipykernel)"
  }
 },
 "nbformat": 4,
 "nbformat_minor": 2,
 "cells": [
  {
   "cell_type": "code",
   "execution_count": null,
   "source": [
    "%load_ext autoreload"
   ],
   "outputs": [],
   "metadata": {
    "collapsed": false,
    "pycharm": {
     "name": "#%%\n"
    }
   }
  },
  {
   "cell_type": "code",
   "execution_count": null,
   "source": [
    "%autoreload 2\n",
    "\n",
    "import sys\n",
    "from pathlib import Path\n",
    "import statistics\n",
    "\n",
    "try:\n",
    "    sys.path.append(str(Path().cwd().parent))\n",
    "except IndexError:\n",
    "    pass\n",
    "\n",
    "from cqp.bitrate_model.util import *\n",
    "from cqp.bitrate_model.model import *\n",
    "from cqp.preprocessor_model.application import *\n",
    "from cqp.preprocessor_model.model import *"
   ],
   "outputs": [],
   "metadata": {}
  },
  {
   "cell_type": "code",
   "execution_count": null,
   "source": [
    "data_files = list(Path.cwd().joinpath(\"notebooks\").joinpath(\"data\").glob(\"*.csv\"))\n",
    "\n",
    "max_parameter = MaxBitrateParameter()\n",
    "dfw = DataFrameWrapper(read_df_by_keys(data_files, KEYS.TEST_SET), max_parameter)"
   ],
   "outputs": [],
   "metadata": {}
  },
  {
   "cell_type": "code",
   "execution_count": null,
   "source": [
    "dfw_train = DataFrameWrapper(read_df_by_keys(data_files, KEYS.TRAINING_SET), max_parameter)\n",
    "dfw_val = DataFrameWrapper(read_df_by_keys(data_files, KEYS.VALIDATION_SET), max_parameter)"
   ],
   "outputs": [],
   "metadata": {
    "collapsed": false,
    "pycharm": {
     "name": "#%%\n"
    }
   }
  },
  {
   "cell_type": "code",
   "execution_count": null,
   "source": [
    "K_SIZE = list(range(1, 11, 2))\n",
    "SIGMA = [0.5 * x for x in range(1, 7)]\n",
    "QP = list(range(24, 46))\n",
    "\n",
    "analytic_model = BitrateModel(ModelParameter())\n",
    "analytic_filter_model = AnalyticPreprocessorModel(K_SIZE, SIGMA, analytic_model)\n",
    "\n",
    "MODEL_PATH = \"cqp/models/x264-cif.h5\"\n",
    "model = tf.keras.models.load_model(MODEL_PATH)\n",
    "model.summary()\n",
    "ml_filter_model = MLPreprocessorModel.from_dfw(K_SIZE, SIGMA, dfw_train, dfw_val, model)"
   ],
   "outputs": [],
   "metadata": {}
  },
  {
   "cell_type": "code",
   "execution_count": null,
   "source": [
    "qps = get_random_qps(QP, KEYS.TEST_SET_CIF)\n",
    "\n",
    "qp_single = min(qps.values())\n",
    "df_single = get_single_encoder_solutions(dfw, qp_single)"
   ],
   "outputs": [],
   "metadata": {}
  },
  {
   "cell_type": "code",
   "execution_count": null,
   "source": [
    "# Reference ground truth for multiple encoders\n",
    "multi = get_multi_encoder_gt(dfw, qps)\n",
    "multi"
   ],
   "outputs": [],
   "metadata": {}
  },
  {
   "cell_type": "code",
   "execution_count": null,
   "source": [
    "# Single ground truth for single encoder without preprocessing and min QP\n",
    "single = get_single_encoder_gt_min_qp(dfw, qps)\n",
    "single"
   ],
   "outputs": [],
   "metadata": {
    "collapsed": false,
    "pycharm": {
     "name": "#%%\n"
    }
   }
  },
  {
   "cell_type": "code",
   "execution_count": null,
   "metadata": {},
   "outputs": [],
   "source": [
    "sfv_bitrate = multi[KEYS.BITRATE].sum()\n",
    "\n",
    "# Single ground truth for single encoder without preprocessing and matching BR\n",
    "single_br = get_single_encoder_gt_matching_br(dfw, qps, sfv_bitrate)\n",
    "single_br"
   ]
  },
  {
   "cell_type": "code",
   "execution_count": null,
   "source": [
    "# Oracle ground truth for single encoder\n",
    "oracle = get_oracle_gt(df_single, multi, qps)\n",
    "oracle"
   ],
   "outputs": [],
   "metadata": {}
  },
  {
   "cell_type": "code",
   "execution_count": null,
   "source": [
    "analytic = pd.DataFrame([analytic_filter_model.estimate_filter_parameter(qp_single, multi.loc[key]) for key in KEYS.TEST_SET_CIF])\n",
    "analytic[\"name\"] = KEYS.TEST_SET_CIF\n",
    "analytic"
   ],
   "outputs": [],
   "metadata": {}
  },
  {
   "cell_type": "code",
   "execution_count": null,
   "source": [
    "# Find actual bitrates with filter based on filter model parameter estimations\n",
    "analytic_gt = get_filter_model_gt(df_single, analytic)\n",
    "analytic_gt"
   ],
   "outputs": [],
   "metadata": {
    "collapsed": false,
    "pycharm": {
     "name": "#%%\n"
    }
   }
  },
  {
   "cell_type": "code",
   "execution_count": null,
   "source": [
    "# Estimate bitrates for multi encoder parameter and single encoder with filter\n",
    "ml = pd.DataFrame([ml_filter_model.estimate_filter_parameter(qp_single, multi.loc[key]) for key in KEYS.TEST_SET_CIF])\n",
    "ml[\"name\"] = KEYS.TEST_SET_CIF\n",
    "ml"
   ],
   "outputs": [],
   "metadata": {
    "collapsed": false,
    "pycharm": {
     "name": "#%%\n"
    }
   }
  },
  {
   "cell_type": "code",
   "execution_count": null,
   "source": [
    "# Find actual bitrates with filter based on filter model parameter estimations\n",
    "ml_gt = get_filter_model_gt(df_single, ml)\n",
    "ml_gt"
   ],
   "outputs": [],
   "metadata": {
    "collapsed": false,
    "pycharm": {
     "name": "#%%\n"
    }
   }
  },
  {
   "cell_type": "code",
   "execution_count": null,
   "source": [
    "single_error_individual = {key: abs(single.loc[key][KEYS.BITRATE].item() - multi.loc[key][KEYS.BITRATE].item()) / dfw.df.loc[key][KEYS.BITRATE].max() for key in KEYS.TEST_SET_CIF}\n",
    "single_br_error_individual = {key: abs(single_br.loc[key][KEYS.BITRATE].item() - multi.loc[key][KEYS.BITRATE].item()) / dfw.df.loc[key][KEYS.BITRATE].max() for key in KEYS.TEST_SET_CIF}\n",
    "oracle_error_individual = {key: abs(oracle.loc[oracle[\"name\"] == key][KEYS.BITRATE].item() - multi.loc[key][KEYS.BITRATE].item()) / dfw.df.loc[key][KEYS.BITRATE].max() for key in KEYS.TEST_SET_CIF}\n",
    "analytic_error_individual = {key: abs(analytic_gt.loc[analytic_gt[\"name\"] == key][f\"{KEYS.BITRATE}_x\"].item() - multi.loc[key][KEYS.BITRATE].item()) / dfw.df.loc[key][KEYS.BITRATE].max() for key in KEYS.TEST_SET_CIF}\n",
    "ml_error_individual = {key: abs(ml_gt.loc[ml_gt[\"name\"] == key][f\"{KEYS.BITRATE}_x\"].item() - multi.loc[key][KEYS.BITRATE].item()) / dfw.df.loc[key][KEYS.BITRATE].max() for key in KEYS.TEST_SET_CIF}\n",
    "\n",
    "print(f\"\\nSingle MAE: {statistics.mean(single_error_individual.values())}\")\n",
    "print(f\"Single RMSE: {get_rmse_from_abs_difference(single_error_individual.values())}\")\n",
    "print(single_error_individual)\n",
    "print(f\"\\nSingle BR MAE: {statistics.mean(single_br_error_individual.values())}\")\n",
    "print(f\"Single BR RMSE: {get_rmse_from_abs_difference(single_br_error_individual.values())}\")\n",
    "print(single_br_error_individual)\n",
    "print(f\"\\nOracle MAE: {statistics.mean(oracle_error_individual.values())}\")\n",
    "print(f\"Oracle RMSE: {get_rmse_from_abs_difference(oracle_error_individual.values())}\")\n",
    "print(oracle_error_individual)\n",
    "print(f\"\\nAnalytic MAE: {statistics.mean(analytic_error_individual.values())}\")\n",
    "print(f\"Analytic RMSE: {get_rmse_from_abs_difference(analytic_error_individual.values())}\")\n",
    "print(analytic_error_individual)\n",
    "print(f\"\\nML MAE: {statistics.mean(ml_error_individual.values())}\")\n",
    "print(f\"ML RMSE: {get_rmse_from_abs_difference(ml_error_individual.values())}\")\n",
    "print(ml_error_individual)"
   ],
   "outputs": [],
   "metadata": {
    "pycharm": {
     "name": "#%%\n"
    }
   }
  },
  {
   "cell_type": "code",
   "execution_count": null,
   "source": [
    "encoding_parameter = collect_experiment_encoding_parameter(multi, single, single_br, oracle, analytic_gt, ml_gt)\n",
    "encoding_parameter.to_csv(\"notebooks/ep.csv\")"
   ],
   "outputs": [],
   "metadata": {}
  },
  {
   "cell_type": "code",
   "execution_count": null,
   "source": [
    "single_error_individual = []\n",
    "single_br_error_individual = []\n",
    "oracle_error_individual = []\n",
    "analytic_error_individual = []\n",
    "ml_error_individual = []\n",
    "ep_list = []\n",
    "\n",
    "for _ in tqdm(list(range(100))):\n",
    "    qps = get_random_qps(QP, KEYS.TEST_SET_CIF)\n",
    "    qp_single = min(qps.values())\n",
    "    df_single = get_single_encoder_solutions(dfw, qp_single)\n",
    "    multi = get_multi_encoder_gt(dfw, qps)\n",
    "    oracle = get_oracle_gt(df_single, multi, qps)\n",
    "    analytic = pd.DataFrame([analytic_filter_model.estimate_filter_parameter(qp_single, multi.loc[key]) for key in KEYS.TEST_SET_CIF])\n",
    "    analytic[\"name\"] = KEYS.TEST_SET_CIF\n",
    "    analytic_gt = get_filter_model_gt(df_single, analytic)\n",
    "    ml = pd.DataFrame([ml_filter_model.estimate_filter_parameter(qp_single, multi.loc[key]) for key in KEYS.TEST_SET_CIF])\n",
    "    ml[\"name\"] = KEYS.TEST_SET_CIF\n",
    "    ml_gt = get_filter_model_gt(df_single, ml)\n",
    "    single_error_individual.extend([abs(single.loc[key][KEYS.BITRATE].item() - multi.loc[key][KEYS.BITRATE].item()) / dfw.df.loc[key][KEYS.BITRATE].max() for key in KEYS.TEST_SET_CIF])\n",
    "    single_br_error_individual.extend([abs(single_br.loc[key][KEYS.BITRATE].item() - multi.loc[key][KEYS.BITRATE].item()) / dfw.df.loc[key][KEYS.BITRATE].max() for key in KEYS.TEST_SET_CIF])\n",
    "    oracle_error_individual.extend([abs(oracle.loc[oracle[\"name\"] == key][KEYS.BITRATE].item() - multi.loc[key][KEYS.BITRATE].item()) / dfw.df.loc[key][KEYS.BITRATE].max() for key in KEYS.TEST_SET_CIF])\n",
    "    analytic_error_individual.extend([abs(analytic_gt.loc[analytic_gt[\"name\"] == key][f\"{KEYS.BITRATE}_x\"].item() - multi.loc[key][KEYS.BITRATE].item()) / dfw.df.loc[key][KEYS.BITRATE].max() for key in KEYS.TEST_SET_CIF])\n",
    "    ml_error_individual.extend([abs(ml_gt.loc[ml_gt[\"name\"] == key][f\"{KEYS.BITRATE}_x\"].item() - multi.loc[key][KEYS.BITRATE].item()) / dfw.df.loc[key][KEYS.BITRATE].max() for key in KEYS.TEST_SET_CIF])\n",
    "    ep_list.append(collect_experiment_encoding_parameter(multi, single, single_br, oracle, analytic_gt, ml_gt))\n",
    "\n",
    "print(f\"\\nSingle Error: {statistics.mean(single_error_individual)}\")\n",
    "print(f\"Single BR Error: {statistics.mean(single_br_error_individual)}\")\n",
    "print(f\"Oracle Error: {statistics.mean(oracle_error_individual)}\")\n",
    "print(f\"Analytic Error: {statistics.mean(analytic_error_individual)}\")\n",
    "print(f\"ML Error: {statistics.mean(ml_error_individual)}\")\n",
    "\n",
    "print(f\"\\nSingle Error: {get_rmse_from_abs_difference(single_error_individual)}\")\n",
    "print(f\"Single BR Error: {get_rmse_from_abs_difference(single_br_error_individual)}\")\n",
    "print(f\"Oracle Error: {get_rmse_from_abs_difference(oracle_error_individual)}\")\n",
    "print(f\"Analytic Error: {get_rmse_from_abs_difference(analytic_error_individual)}\")\n",
    "print(f\"ML Error: {get_rmse_from_abs_difference(ml_error_individual)}\")\n",
    "\n",
    "pd.concat(ep_list).to_csv(\"notebooks/encoding-parameters.csv\")"
   ],
   "outputs": [],
   "metadata": {
    "collapsed": false,
    "pycharm": {
     "name": "#%%\n"
    }
   }
  }
 ]
}
