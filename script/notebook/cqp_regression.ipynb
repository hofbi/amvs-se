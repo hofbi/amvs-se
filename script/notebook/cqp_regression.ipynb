{
 "cells": [
  {
   "cell_type": "code",
   "execution_count": null,
   "metadata": {},
   "outputs": [],
   "source": [
    "%load_ext autoreload"
   ]
  },
  {
   "cell_type": "code",
   "execution_count": null,
   "metadata": {
    "pycharm": {
     "name": "#%%\n"
    }
   },
   "outputs": [],
   "source": [
    "%autoreload 2\n",
    "\n",
    "import sys\n",
    "from pathlib import Path\n",
    "import tikzplotlib\n",
    "\n",
    "try:\n",
    "    sys.path.append(str(Path().cwd().parent))\n",
    "except IndexError:\n",
    "    pass\n",
    "\n",
    "from cqp.cqp_regression import *"
   ]
  },
  {
   "cell_type": "code",
   "execution_count": null,
   "metadata": {},
   "outputs": [],
   "source": [
    "prefix_cycle = cycle(MODE_PREFIXES)"
   ]
  },
  {
   "cell_type": "code",
   "execution_count": null,
   "metadata": {
    "pycharm": {
     "name": "#%%\n"
    }
   },
   "outputs": [],
   "source": [
    "EVAL_DIR = \"sa_ta\"\n",
    "MODE_PREFIX = next(prefix_cycle)\n",
    "BASE_KEY = MODE_PREFIX + \"base\"\n",
    "FILTER = MODE_PREFIX + \"median\"\n",
    "\n",
    "print(f\"Current cycle: {MODE_PREFIX}\")"
   ]
  },
  {
   "cell_type": "code",
   "execution_count": null,
   "metadata": {
    "pycharm": {
     "name": "#%%\n"
    }
   },
   "outputs": [],
   "source": [
    "data_path = Path(\"average.csv\")\n",
    "data_path = data_path if data_path.exists() else Path.cwd().parent.parent / \"config\" / EVAL_DIR / \"SATA\" / \"average.csv\"\n",
    "df = read_df(data_path)"
   ]
  },
  {
   "cell_type": "code",
   "execution_count": null,
   "metadata": {
    "pycharm": {
     "name": "#%%\n"
    }
   },
   "outputs": [],
   "source": [
    "cycol, filter_keys = plot_bitrate(BASE_KEY, df, FILTER)\n",
    "\n",
    "tikzplotlib.save(\"rate-over-qp-filtered.tex\")"
   ]
  },
  {
   "cell_type": "code",
   "execution_count": null,
   "metadata": {
    "pycharm": {
     "name": "#%%\n"
    }
   },
   "outputs": [],
   "source": [
    "base, lines, _ = get_qp_match(BASE_KEY, cycol, df, FILTER, filter_keys)\n",
    "\n",
    "tikzplotlib.save(\"linear-regression-2d.tex\")"
   ]
  },
  {
   "cell_type": "code",
   "execution_count": null,
   "metadata": {
    "pycharm": {
     "name": "#%%\n"
    }
   },
   "outputs": [],
   "source": [
    "X, f, linear_regression, y = fit_plane(base, lines, MODE_PREFIX)\n",
    "\n",
    "plt.savefig(\"linear-regression-3d.pdf\")"
   ]
  },
  {
   "cell_type": "markdown",
   "metadata": {
    "pycharm": {
     "name": "#%% md\n"
    }
   },
   "source": [
    "$$FS = f(QP_{i}, QP_{SF}) = a + b\\cdot QP_i + c\\cdot QP_{SF}$$"
   ]
  },
  {
   "cell_type": "code",
   "execution_count": null,
   "metadata": {
    "pycharm": {
     "name": "#%%\n"
    }
   },
   "outputs": [],
   "source": [
    "print(f\"FS = {linear_regression.intercept_} + {linear_regression.coef_[0]} * QP_i + {linear_regression.coef_[1]} * QP_SF\")"
   ]
  },
  {
   "cell_type": "code",
   "execution_count": null,
   "metadata": {
    "pycharm": {
     "name": "#%%\n"
    }
   },
   "outputs": [],
   "source": [
    "linear_regression_mae = mean_absolute_error(y, linear_regression.predict(X))\n",
    "linear_regression_pc = get_pc(y, linear_regression.predict(X))\n",
    "plane_error = mean_absolute_error(y, predict_with_plane_equation(\n",
    "    linear_regression.intercept_, linear_regression.coef_[0], linear_regression.coef_[1], X))\n",
    "\n",
    "print(F\"MAE linear regression: {linear_regression_mae:.5f} with PC {linear_regression_pc:.5f}\")\n",
    "print(f\"Plane equation MAE: {plane_error:.5f}\")"
   ]
  },
  {
   "cell_type": "code",
   "execution_count": null,
   "metadata": {
    "pycharm": {
     "name": "#%%\n"
    }
   },
   "outputs": [],
   "source": [
    "model_params_list, eval_data = zip(*[evaluate_block(df, prefix) for prefix in tqdm(MODE_PREFIXES)])"
   ]
  },
  {
   "cell_type": "code",
   "execution_count": null,
   "metadata": {
    "pycharm": {
     "name": "#%%\n"
    }
   },
   "outputs": [],
   "source": [
    "average_model = get_average_model_params(model_params_list)\n",
    "st_model = get_st_model(model_params_list)"
   ]
  },
  {
   "cell_type": "code",
   "execution_count": null,
   "metadata": {
    "pycharm": {
     "name": "#%%\n"
    }
   },
   "outputs": [],
   "source": [
    "evaluation_data = pd.concat(eval_data)\n",
    "\n",
    "avg_prediction = average_model.plane.predict(\n",
    "    evaluation_data[[\"qp_i\", \"qp_sf\"]].to_numpy()\n",
    ")\n",
    "bitrate_evaluation(evaluation_data, avg_prediction, df, \"average\")"
   ]
  }
 ],
 "metadata": {
  "kernelspec": {
   "display_name": "Python 3",
   "language": "python",
   "name": "python3"
  },
  "language_info": {
   "codemirror_mode": {
    "name": "ipython",
    "version": 2
   },
   "file_extension": ".py",
   "mimetype": "text/x-python",
   "name": "python",
   "nbconvert_exporter": "python",
   "pygments_lexer": "ipython2",
   "version": "3.6.9-final"
  }
 },
 "nbformat": 4,
 "nbformat_minor": 0
}
