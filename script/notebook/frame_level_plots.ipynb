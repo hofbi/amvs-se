{
 "cells": [
  {
   "cell_type": "code",
   "execution_count": null,
   "metadata": {},
   "outputs": [],
   "source": [
    "%load_ext autoreload"
   ]
  },
  {
   "cell_type": "code",
   "execution_count": null,
   "metadata": {
    "pycharm": {
     "name": "#%%\n"
    }
   },
   "outputs": [],
   "source": [
    "%autoreload 2\n",
    "\n",
    "import sys\n",
    "from pathlib import Path\n",
    "import matplotlib.pyplot as plt\n",
    "import tikzplotlib\n",
    "\n",
    "try:\n",
    "    sys.path.append(str(Path().cwd().parent))\n",
    "except IndexError:\n",
    "    pass\n",
    "\n",
    "from cqp.bitrate_model.util import *"
   ]
  },
  {
   "cell_type": "code",
   "execution_count": null,
   "metadata": {
    "pycharm": {
     "name": "#%%\n"
    }
   },
   "outputs": [],
   "source": [
    "BASE_PATH = Path.cwd().parent / \"util\" / \"frame_level_stats\"\n",
    "\n",
    "all_files = sorted(BASE_PATH.glob(\"*.csv\"))"
   ]
  },
  {
   "cell_type": "code",
   "execution_count": null,
   "metadata": {
    "pycharm": {
     "name": "#%%\n"
    }
   },
   "outputs": [],
   "source": [
    "def plot_per_mode(view_key: str, data_key: str):\n",
    "    plt.figure()\n",
    "    views = [view for view in all_files if view_key in str(view)]\n",
    "    for view in views:\n",
    "        df = pd.read_csv(view)\n",
    "        plt.plot(df[data_key], label=view.stem.rsplit(\"-\", 1)[0])\n",
    "    plt.legend()\n",
    "    plt.xlabel(\"Frame Number\")\n",
    "\n",
    "\n",
    "def plot_bitrate_per_mode(view_key: str):\n",
    "    plot_per_mode(view_key, \"bitrate\")\n",
    "    plt.ylabel(\"Frame Size [kBit]\")\n",
    "    plt.ylim(0, 35)\n",
    "    tikzplotlib.save(f\"se_appl_{Path(view_key).stem}_bitrate.tex\")\n",
    "\n",
    "\n",
    "def plot_vmaf_per_mode(view_key: str):\n",
    "    plot_per_mode(view_key, \"vmaf\")\n",
    "    plt.ylabel(\"VMAF [1]\")\n",
    "    plt.ylim(72, 102)\n",
    "    tikzplotlib.save(f\"se_appl_{Path(view_key).stem}_vmaf.tex\")"
   ]
  },
  {
   "cell_type": "code",
   "execution_count": null,
   "metadata": {
    "pycharm": {
     "name": "#%%\n"
    }
   },
   "outputs": [],
   "source": [
    "plot_bitrate_per_mode(\"front.csv\")\n",
    "plot_vmaf_per_mode(\"front.csv\")"
   ]
  },
  {
   "cell_type": "code",
   "execution_count": null,
   "metadata": {
    "pycharm": {
     "name": "#%%\n"
    }
   },
   "outputs": [],
   "source": [
    "plot_bitrate_per_mode(\"front_left.csv\")\n",
    "plot_vmaf_per_mode(\"front_left.csv\")"
   ]
  },
  {
   "cell_type": "code",
   "execution_count": null,
   "metadata": {
    "pycharm": {
     "name": "#%%\n"
    }
   },
   "outputs": [],
   "source": [
    "plot_bitrate_per_mode(\"front_right.csv\")\n",
    "plot_vmaf_per_mode(\"front_right.csv\")"
   ]
  },
  {
   "cell_type": "code",
   "execution_count": null,
   "metadata": {
    "pycharm": {
     "name": "#%%\n"
    }
   },
   "outputs": [],
   "source": [
    "plot_bitrate_per_mode(\"rear.csv\")\n",
    "plot_vmaf_per_mode(\"rear.csv\")"
   ]
  },
  {
   "cell_type": "code",
   "execution_count": null,
   "metadata": {
    "pycharm": {
     "name": "#%%\n"
    }
   },
   "outputs": [],
   "source": [
    "plot_bitrate_per_mode(\"rear_left.csv\")\n",
    "plot_vmaf_per_mode(\"rear_left.csv\")"
   ]
  },
  {
   "cell_type": "code",
   "execution_count": null,
   "metadata": {
    "pycharm": {
     "name": "#%%\n"
    }
   },
   "outputs": [],
   "source": [
    "plot_bitrate_per_mode(\"rear_right.csv\")\n",
    "plot_vmaf_per_mode(\"rear_right.csv\")"
   ]
  }
 ],
 "metadata": {
  "kernelspec": {
   "display_name": "Python 3",
   "language": "python",
   "name": "python3"
  },
  "language_info": {
   "codemirror_mode": {
    "name": "ipython",
    "version": 2
   },
   "file_extension": ".py",
   "mimetype": "text/x-python",
   "name": "python",
   "nbconvert_exporter": "python",
   "pygments_lexer": "ipython2",
   "version": "3.6.9-final"
  }
 },
 "nbformat": 4,
 "nbformat_minor": 2
}
