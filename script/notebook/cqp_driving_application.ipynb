{
 "cells": [
  {
   "cell_type": "code",
   "execution_count": null,
   "metadata": {},
   "outputs": [],
   "source": [
    "%load_ext autoreload"
   ]
  },
  {
   "cell_type": "code",
   "execution_count": null,
   "metadata": {},
   "outputs": [],
   "source": [
    "%autoreload 2\n",
    "\n",
    "import sys\n",
    "from pathlib import Path\n",
    "\n",
    "try:\n",
    "    sys.path.append(str(Path().cwd().parent))\n",
    "except IndexError:\n",
    "    pass\n",
    "\n",
    "from cqp.bitrate_model.util import *\n",
    "from cqp.bitrate_model.model import *\n",
    "from cqp.preprocessor_model.application import *\n",
    "from cqp.preprocessor_model.model import *"
   ]
  },
  {
   "cell_type": "markdown",
   "metadata": {},
   "source": [
    "## x264-CIF"
   ]
  },
  {
   "cell_type": "code",
   "execution_count": null,
   "metadata": {},
   "outputs": [],
   "source": [
    "analytic_model = BitrateModel(ModelParameter())\n",
    "\n",
    "MODEL_PATH = \"cqp/models/x264-cif.h5\"\n",
    "model = tf.keras.models.load_model(MODEL_PATH)\n",
    "model.summary()"
   ]
  },
  {
   "cell_type": "code",
   "execution_count": null,
   "metadata": {},
   "outputs": [],
   "source": [
    "data_files = list(Path.cwd().joinpath(\"notebooks\").joinpath(\"data\").glob(\"*.csv\"))\n",
    "max_parameter = MaxBitrateParameter()\n",
    "dfw_train = DataFrameWrapper(read_df_by_keys(data_files, KEYS.TRAINING_SET), max_parameter)\n",
    "dfw_val = DataFrameWrapper(read_df_by_keys(data_files, KEYS.VALIDATION_SET), max_parameter)"
   ]
  },
  {
   "cell_type": "code",
   "execution_count": null,
   "metadata": {},
   "outputs": [],
   "source": [
    "ml_filter_model = MLPreprocessorModel.from_dfw([1], [0.5], dfw_train, dfw_val, model)"
   ]
  },
  {
   "cell_type": "markdown",
   "metadata": {},
   "source": [
    "### Left Turn"
   ]
  },
  {
   "cell_type": "code",
   "execution_count": null,
   "metadata": {
    "pycharm": {
     "name": "#%%\n"
    }
   },
   "outputs": [],
   "source": [
    "front_ref = analytic_model.evaluate(96.974, 22.112, 27, 30, 20, \"352x288\", 1, 0.5)\n",
    "front_left_ref = analytic_model.evaluate(102.196, 23.826, 27, 30, 20, \"352x288\", 1, 0.5)\n",
    "front_right_ref = analytic_model.evaluate(95.964, 23.687, 29, 30, 20, \"352x288\", 1, 0.5)\n",
    "rear_ref = analytic_model.evaluate(115.44, 28.398, 27, 15, 20, \"286x234\", 1, 0.5)\n",
    "rear_left_ref = analytic_model.evaluate(105.405, 21.489, 31, 15, 20, \"286x234\", 1, 0.5)\n",
    "rear_right_ref = analytic_model.evaluate(111.059, 26.843, 27, 15, 20, \"176x144\", 1, 0.5)"
   ]
  },
  {
   "cell_type": "code",
   "execution_count": null,
   "metadata": {
    "pycharm": {
     "name": "#%%\n"
    }
   },
   "outputs": [],
   "source": [
    "print(front_right_ref - analytic_model.evaluate(95.964, 23.687, 27, 30, 20, \"352x288\", 3, 0.52))\n",
    "print(rear_left_ref - analytic_model.evaluate(105.405, 21.489, 27, 15, 20, \"286x234\", 3, 0.7))"
   ]
  },
  {
   "cell_type": "code",
   "execution_count": null,
   "metadata": {},
   "outputs": [],
   "source": [
    "front_ref = ml_filter_model.predict_rate(96.974, 22.112, 27, 30, 20, \"352x288\", 1, 0.5)\n",
    "front_left_ref = ml_filter_model.predict_rate(102.196, 23.826, 27, 30, 20, \"352x288\", 1, 0.5)\n",
    "front_right_ref = ml_filter_model.predict_rate(95.964, 23.687, 29, 30, 20, \"352x288\", 1, 0.5)\n",
    "rear_ref = ml_filter_model.predict_rate(115.44, 28.398, 27, 15, 20, \"286x234\", 1, 0.5)\n",
    "rear_left_ref = ml_filter_model.predict_rate(105.405, 21.489, 31, 15, 20, \"286x234\", 1, 0.5)\n",
    "rear_right_ref = ml_filter_model.predict_rate(111.059, 26.843, 27, 15, 20, \"176x144\", 1, 0.5)"
   ]
  },
  {
   "cell_type": "code",
   "execution_count": null,
   "metadata": {},
   "outputs": [],
   "source": [
    "print(0.001 * (front_right_ref - ml_filter_model.predict_rate(95.964, 23.687, 27, 30, 20, \"352x288\", 3, 0.55)))\n",
    "print(0.001 * (rear_left_ref - ml_filter_model.predict_rate(105.405, 21.489, 27, 15, 20, \"286x234\", 5, 1.0)))"
   ]
  },
  {
   "cell_type": "markdown",
   "metadata": {},
   "source": [
    "### Right Turn"
   ]
  },
  {
   "cell_type": "code",
   "execution_count": null,
   "metadata": {
    "pycharm": {
     "name": "#%%\n"
    }
   },
   "outputs": [],
   "source": [
    "front_ref = analytic_model.evaluate(56.234, 15.12, 27, 30, 20, \"352x288\", 1, 0.5)\n",
    "front_left_ref = analytic_model.evaluate(64.257, 18.985, 29, 30, 20, \"286x234\", 1, 0.5)\n",
    "front_right_ref = analytic_model.evaluate(75.828, 22.72, 27, 30, 20, \"352x288\", 1, 0.5)\n",
    "rear_ref = analytic_model.evaluate(61.64, 15.764, 31, 15, 20, \"176x144\", 1, 0.5)\n",
    "rear_left_ref = analytic_model.evaluate(78.109, 20.349, 31, 15, 20, \"176x144\", 1, 0.5)\n",
    "rear_right_ref = analytic_model.evaluate(65.861, 14.267, 27, 30, 20, \"352x288\", 1, 0.5)"
   ]
  },
  {
   "cell_type": "code",
   "execution_count": null,
   "metadata": {
    "pycharm": {
     "name": "#%%\n"
    }
   },
   "outputs": [],
   "source": [
    "print(front_left_ref - analytic_model.evaluate(64.257, 18.985, 27, 30, 20, \"286x234\", 3, 0.53))\n",
    "print(rear_ref - analytic_model.evaluate(61.64, 15.764, 27, 15, 20, \"176x144\", 3, 0.85))\n",
    "print(rear_left_ref - analytic_model.evaluate(78.109, 20.349, 27, 15, 20, \"176x144\", 3, 0.77))"
   ]
  },
  {
   "cell_type": "code",
   "execution_count": null,
   "metadata": {
    "pycharm": {
     "name": "#%%\n"
    }
   },
   "outputs": [],
   "source": [
    "front_ref = ml_filter_model.predict_rate(56.234, 15.12, 27, 30, 20, \"352x288\", 1, 0.5)\n",
    "front_left_ref = ml_filter_model.predict_rate(64.257, 18.985, 29, 30, 20, \"286x234\", 1, 0.5)\n",
    "front_right_ref = ml_filter_model.predict_rate(75.828, 22.72, 27, 30, 20, \"352x288\", 1, 0.5)\n",
    "rear_ref = ml_filter_model.predict_rate(61.64, 15.764, 31, 15, 20, \"176x144\", 1, 0.5)\n",
    "rear_left_ref = ml_filter_model.predict_rate(78.109, 20.349, 31, 15, 20, \"176x144\", 1, 0.5)\n",
    "rear_right_ref = ml_filter_model.predict_rate(65.861, 14.267, 27, 30, 20, \"352x288\", 1, 0.5)"
   ]
  },
  {
   "cell_type": "code",
   "execution_count": null,
   "metadata": {
    "pycharm": {
     "name": "#%%\n"
    }
   },
   "outputs": [],
   "source": [
    "print(0.001 * (front_left_ref - ml_filter_model.predict_rate(64.257, 18.985, 27, 30, 20, \"286x234\", 3, 0.66)))\n",
    "print(0.001 * (rear_ref - ml_filter_model.predict_rate(61.64, 15.764, 27, 15, 20, \"176x144\", 5, 1.9)))\n",
    "print(0.001 * (rear_left_ref - ml_filter_model.predict_rate(78.109, 20.349, 27, 15, 20, \"176x144\", 5, 1.2)))"
   ]
  },
  {
   "cell_type": "markdown",
   "metadata": {},
   "source": [
    "### Straight Driving"
   ]
  },
  {
   "cell_type": "code",
   "execution_count": null,
   "metadata": {
    "pycharm": {
     "name": "#%%\n"
    }
   },
   "outputs": [],
   "source": [
    "front_ref = analytic_model.evaluate(50.18, 12.692, 27, 30, 20, \"352x288\", 1, 0.5)\n",
    "front_left_ref = analytic_model.evaluate(57.223, 16.595, 27, 30, 20, \"286x234\", 1, 0.5)\n",
    "front_right_ref = analytic_model.evaluate(45.859, 11.747, 27, 30, 20, \"286x234\", 1, 0.5)\n",
    "rear_ref = analytic_model.evaluate(59.784, 13.537, 30, 15, 20, \"176x144\", 1, 0.5)\n",
    "rear_left_ref = analytic_model.evaluate(54.729, 10.031, 30, 15, 20, \"176x144\", 1, 0.5)\n",
    "rear_right_ref = analytic_model.evaluate(67.134, 16.426, 30, 15, 20, \"176x144\", 1, 0.5)"
   ]
  },
  {
   "cell_type": "code",
   "execution_count": null,
   "metadata": {
    "pycharm": {
     "name": "#%%\n"
    }
   },
   "outputs": [],
   "source": [
    "print(rear_ref - analytic_model.evaluate(59.784, 13.537, 27, 15, 20, \"176x144\", 3, 0.64))\n",
    "print(rear_left_ref - analytic_model.evaluate(59.784, 13.537, 27, 15, 20, \"176x144\", 3, 1.5))\n",
    "print(rear_right_ref - analytic_model.evaluate(59.784, 13.537, 27, 15, 20, \"176x144\", 3, 0.5))"
   ]
  },
  {
   "cell_type": "code",
   "execution_count": null,
   "metadata": {
    "pycharm": {
     "name": "#%%\n"
    }
   },
   "outputs": [],
   "source": [
    "front_ref = ml_filter_model.predict_rate(50.18, 12.692, 27, 30, 20, \"352x288\", 1, 0.5)\n",
    "front_left_ref = ml_filter_model.predict_rate(57.223, 16.595, 27, 30, 20, \"286x234\", 1, 0.5)\n",
    "front_right_ref = ml_filter_model.predict_rate(45.859, 11.747, 27, 30, 20, \"286x234\", 1, 0.5)\n",
    "rear_ref = ml_filter_model.predict_rate(59.784, 13.537, 30, 15, 20, \"176x144\", 1, 0.5)\n",
    "rear_left_ref = ml_filter_model.predict_rate(54.729, 10.031, 30, 15, 20, \"176x144\", 1, 0.5)\n",
    "rear_right_ref = ml_filter_model.predict_rate(67.134, 16.426, 30, 15, 20, \"176x144\", 1, 0.5)"
   ]
  },
  {
   "cell_type": "code",
   "execution_count": null,
   "metadata": {
    "pycharm": {
     "name": "#%%\n"
    }
   },
   "outputs": [],
   "source": [
    "print(0.001 * (rear_ref - ml_filter_model.predict_rate(59.784, 13.537, 27, 15, 20, \"176x144\", 3, 1.31)))\n",
    "print(0.001 * (rear_left_ref - ml_filter_model.predict_rate(59.784, 13.537, 27, 15, 20, \"176x144\", 3, 1.0)))\n",
    "print(0.001 * (rear_right_ref - ml_filter_model.predict_rate(59.784, 13.537, 27, 15, 20, \"176x144\", 3, 0.5)))"
   ]
  },
  {
   "cell_type": "markdown",
   "metadata": {},
   "source": [
    "## NHEVC-HD"
   ]
  },
  {
   "cell_type": "code",
   "execution_count": null,
   "metadata": {},
   "outputs": [],
   "source": [
    "# Set w_max: int = 1920  # px and h_max: int = 1080  # px in util.py MaxBitrateParameter\n",
    "analytic_model = BitrateModel(ModelParameter(\n",
    "        rho=[1924.03610673, -7900.46659695, -39.55648136, 38530.58130947],\n",
    "        alpha=[-1.49061683e-02,  2.37409673e-05,  3.77142015],\n",
    "        beta=[0.99998729],\n",
    "        gamma=[-0.54621585,  0.00805115,  1.26424727],\n",
    "        delta=[-0.01456531,  1.00852458],\n",
    "        epsilon=[ 0.54724524, -0.00807732, -0.26493794],\n",
    "        phi=[-1.96851369e-04,  2.01130840],\n",
    "        lambda_=[-0.00114698,  0.27982574],\n",
    "        mu=[15.8162305],\n",
    "        omega=[0.79079725],\n",
    "        tau=[0.00073529, 0.29331452],\n",
    "        upsilon=[-1.25299066e-04,  2.94483516],\n",
    "        nu=[-0.00070884,  0.70659776]\n",
    "    ))\n",
    "\n",
    "MODEL_PATH = \"cqp/models/nhevc-hd.h5\"\n",
    "model = tf.keras.models.load_model(MODEL_PATH)\n",
    "model.summary()"
   ]
  },
  {
   "cell_type": "code",
   "execution_count": null,
   "metadata": {},
   "outputs": [],
   "source": [
    "front_ref = analytic_model.evaluate(48.087, 23.872, 27, 30, 20, \"1920x1080\", 1, 0.5)\n",
    "front_left_ref = analytic_model.evaluate(49.67, 25.685, 27, 30, 20, \"1920x1080\", 1, 0.5)\n",
    "front_right_ref = analytic_model.evaluate(48.746, 25.258, 29, 30, 20, \"1920x1080\", 1, 0.5)\n",
    "rear_ref = analytic_model.evaluate(59.187, 30.609, 27, 15, 20, \"1600x900\", 1, 0.5)\n",
    "rear_left_ref = analytic_model.evaluate(56.142, 23.811, 31, 15, 20, \"1600x900\", 1, 0.5)\n",
    "rear_right_ref = analytic_model.evaluate(57.722, 29.126, 27, 15, 20, \"1280x720\", 1, 0.5)"
   ]
  },
  {
   "cell_type": "code",
   "execution_count": null,
   "metadata": {},
   "outputs": [],
   "source": [
    "print(front_right_ref - analytic_model.evaluate(48.746, 25.258, 27, 30, 20, \"1920x1080\", 3, 0.48))\n",
    "print(rear_left_ref - analytic_model.evaluate(56.142, 23.811, 27, 15, 20, \"1600x900\", 3, 0.65))"
   ]
  },
  {
   "cell_type": "code",
   "execution_count": null,
   "metadata": {},
   "outputs": [],
   "source": [
    "data_files = list(Path.cwd().joinpath(\"notebooks\").joinpath(\"data-hd\").glob(\"*.csv\"))\n",
    "max_parameter = MaxBitrateParameter(w_max=1920, h_max=1080)\n",
    "dfw_train = DataFrameWrapper(read_df_by_keys(data_files, KEYS.TRAINING_SET), max_parameter)\n",
    "dfw_val = DataFrameWrapper(read_df_by_keys(data_files, KEYS.VALIDATION_SET), max_parameter)"
   ]
  },
  {
   "cell_type": "code",
   "execution_count": null,
   "metadata": {},
   "outputs": [],
   "source": [
    "ml_filter_model = MLPreprocessorModel.from_dfw([1], [0.5], dfw_train, dfw_val, model)"
   ]
  },
  {
   "cell_type": "code",
   "execution_count": null,
   "metadata": {},
   "outputs": [],
   "source": [
    "front_ref = ml_filter_model.predict_rate(48.087, 23.872, 27, 30, 20, \"1920x1080\", 1, 0.5)\n",
    "front_left_ref = ml_filter_model.predict_rate(49.67, 25.685, 27, 30, 20, \"1920x1080\", 1, 0.5)\n",
    "front_right_ref = ml_filter_model.predict_rate(48.746, 25.258, 29, 30, 20, \"1920x1080\", 1, 0.5)\n",
    "rear_ref = ml_filter_model.predict_rate(59.187, 30.609, 27, 15, 20, \"1600x900\", 1, 0.5)\n",
    "rear_left_ref = ml_filter_model.predict_rate(56.142, 23.811, 31, 15, 20, \"1600x900\", 1, 0.5)\n",
    "rear_right_ref = ml_filter_model.predict_rate(57.722, 29.126, 27, 15, 20, \"1280x720\", 1, 0.5)"
   ]
  },
  {
   "cell_type": "code",
   "execution_count": null,
   "metadata": {},
   "outputs": [],
   "source": [
    "print(0.001 * (front_right_ref - ml_filter_model.predict_rate(48.746, 25.258, 27, 30, 20, \"1920x1080\", 3, 0.87)))\n",
    "print(0.001 * (rear_left_ref - ml_filter_model.predict_rate(56.142, 23.811, 27, 15, 20, \"1600x900\", 5, 1.65)))"
   ]
  }
 ],
 "metadata": {
  "kernelspec": {
   "display_name": "Python 3 (ipykernel)",
   "language": "python",
   "name": "python3"
  },
  "language_info": {
   "codemirror_mode": {
    "name": "ipython",
    "version": 3
   },
   "file_extension": ".py",
   "mimetype": "text/x-python",
   "name": "python",
   "nbconvert_exporter": "python",
   "pygments_lexer": "ipython3",
   "version": "3.7.5"
  }
 },
 "nbformat": 4,
 "nbformat_minor": 2
}
