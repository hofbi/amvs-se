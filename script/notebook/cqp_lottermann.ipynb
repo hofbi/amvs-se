{
 "cells": [
  {
   "cell_type": "code",
   "execution_count": null,
   "metadata": {},
   "outputs": [],
   "source": [
    "import matplotlib.pyplot as plt\n",
    "import pandas as pd\n",
    "import numpy as np\n",
    "from pathlib import Path\n",
    "import math\n",
    "from sklearn.metrics import mean_squared_error"
   ]
  },
  {
   "cell_type": "code",
   "execution_count": null,
   "metadata": {},
   "outputs": [],
   "source": [
    "DATA_FILE = \"ffmpeg-results-lottermann.csv\"\n",
    "\n",
    "SA_KEY = \"sa\"\n",
    "TA_KEY = \"ta\"\n",
    "QP_KEY = \"qp\"\n",
    "RATE_KEY = \"rate\"\n",
    "GOP_KEY = \"gop_len\"\n",
    "BITRATE_KEY = \"bitrate\""
   ]
  },
  {
   "cell_type": "code",
   "execution_count": null,
   "metadata": {},
   "outputs": [],
   "source": [
    "# Lottermann Bitrate model\n",
    "QP_min  = 24\n",
    "F_max   = 30         # Hz\n",
    "RHO_1   = 1.3190     # kbit/s\n",
    "RHO_2   = 31.7481    # kbit/s\n",
    "RHO_3   = -210.6505  # kbit/s\n",
    "alpha_1 = -0.0492\n",
    "alpha_2 = 4.8648\n",
    "alpha_3 = -14.3861\n",
    "b       = 1\n",
    "d       = 1\n",
    "gamma_1 = -0.0108\n",
    "gamma_2 = 0.9473\n",
    "eps_1   = 0.0011\n",
    "eps_2   = 1.0200\n",
    "eps_3   = -0.0598\n",
    "\n",
    "def bitrate_model(SA, TA, QP, f, n):\n",
    "    R_max = RHO_1 * TA * SA + RHO_2 * SA + RHO_3\n",
    "    a = alpha_1 * SA + alpha_2 * math.log(SA) + alpha_3\n",
    "    SCF = pow(QP / QP_min, -a)\n",
    "    TCF = pow(f / F_max, b)\n",
    "    c = gamma_1 * TA + gamma_2\n",
    "    e = eps_1 * SA + eps_2 * (TA / SA) + eps_3\n",
    "    NCF = c * pow(1 / n, d) + e\n",
    "    MCF = 1 # P-frames only\n",
    "\n",
    "    return R_max * SCF * TCF * NCF * MCF"
   ]
  },
  {
   "cell_type": "code",
   "execution_count": null,
   "metadata": {},
   "outputs": [],
   "source": [
    "def get_bitrates_for_video(df, video_key):\n",
    "    video_data = df.loc[video_key]\n",
    "    bitrate_measured = (video_data[BITRATE_KEY] * 0.001).tolist()\n",
    "    bitrate_estimated = [bitrate_model(sa, ta, qp, f, n) for sa, ta, qp, f, n in zip(\n",
    "        video_data[SA_KEY].tolist(), \n",
    "        video_data[TA_KEY].tolist(),\n",
    "        video_data[QP_KEY].tolist(),\n",
    "        video_data[RATE_KEY].tolist(),\n",
    "        video_data[GOP_KEY].tolist()\n",
    "    )]\n",
    "    return bitrate_measured, bitrate_estimated\n",
    "\n",
    "def get_rmse(bitrate_measured, bitrate_estimated):\n",
    "    return math.sqrt(mean_squared_error(bitrate_measured, bitrate_estimated))\n",
    "\n",
    "def get_pc(bitrate_measured, bitrate_estimated):\n",
    "    return np.corrcoef(bitrate_measured, bitrate_estimated)[0,1]"
   ]
  },
  {
   "cell_type": "code",
   "execution_count": null,
   "metadata": {},
   "outputs": [],
   "source": [
    "df = pd.read_csv(DATA_FILE, index_col=\"name\")"
   ]
  },
  {
   "cell_type": "code",
   "execution_count": null,
   "metadata": {},
   "outputs": [],
   "source": [
    "# Visu SA/TA\n",
    "video_keys = df.index.drop_duplicates()\n",
    "unique_rows = [df.loc[key].head(1) for key in video_keys]\n",
    "ax = plt.gca()\n",
    "df.plot.scatter(x=TA_KEY, y=SA_KEY, ax=ax)\n",
    "for it in unique_rows:\n",
    "    ax.annotate(it.index[0], xy=(it[\"ta\"][0], it[\"sa\"][0]))\n",
    "\n",
    "plt.xlabel(\"TA\")\n",
    "plt.ylabel(\"SA\")\n",
    "plt.title(\"TA/SA\")\n"
   ]
  },
  {
   "cell_type": "code",
   "execution_count": null,
   "metadata": {},
   "outputs": [],
   "source": [
    "video_keys = df.index.drop_duplicates()\n",
    "for key in video_keys:\n",
    "    bitrate_measured, bitrate_estimated = get_bitrates_for_video(df, key)\n",
    "    rmse = get_rmse(bitrate_measured, bitrate_estimated)\n",
    "    pc = get_pc(bitrate_measured, bitrate_estimated)\n",
    "    plt.figure()\n",
    "    plt.plot(bitrate_estimated, bitrate_measured)\n",
    "    plt.xlabel(\"Estimated Bitrate [kBit/s]\")\n",
    "    plt.ylabel(\"Measured Bitrate [kBit/s]\")\n",
    "    plt.title(f\"Bitrate model comparison {key} (RMSE: {rmse:.2f}, PC: {pc:.5f})\")\n",
    "    print(f\"RMSE {key}: {rmse:.2f}\")\n",
    "    print(f\"PC {key}: {pc:.5f}\")"
   ]
  }
 ],
 "metadata": {
  "kernelspec": {
   "display_name": "Python 3.8.5 64-bit",
   "metadata": {
    "interpreter": {
     "hash": "5fe9e4a967ad88263a561980ff7012f908885dca6b598a8a49ad973282b27214"
    }
   },
   "name": "Python 3.8.5 64-bit"
  },
  "language_info": {
   "codemirror_mode": {
    "name": "ipython",
    "version": 3
   },
   "file_extension": ".py",
   "mimetype": "text/x-python",
   "name": "python",
   "nbconvert_exporter": "python",
   "pygments_lexer": "ipython3",
   "version": "3.8.5-final"
  }
 },
 "nbformat": 4,
 "nbformat_minor": 2
}
