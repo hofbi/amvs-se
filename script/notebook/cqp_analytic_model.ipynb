{
 "cells": [
  {
   "cell_type": "code",
   "execution_count": null,
   "metadata": {
    "pycharm": {
     "name": "#%%\n"
    }
   },
   "outputs": [],
   "source": [
    "%load_ext autoreload"
   ]
  },
  {
   "cell_type": "code",
   "execution_count": null,
   "metadata": {},
   "outputs": [],
   "source": [
    "%autoreload 2\n",
    "\n",
    "import sys\n",
    "from pathlib import Path\n",
    "\n",
    "try:\n",
    "    sys.path.append(str(Path().cwd().parent))\n",
    "except IndexError:\n",
    "    pass\n",
    "\n",
    "from cqp.bitrate_model.trainer import *\n",
    "from cqp.cqp_analytic_model_train import *\n",
    "from cqp.bitrate_model.plot import *\n",
    "from cqp.bitrate_model.util import *\n",
    "from cqp.bitrate_model.glm import *"
   ]
  },
  {
   "cell_type": "code",
   "execution_count": null,
   "metadata": {
    "pycharm": {
     "name": "#%%\n"
    }
   },
   "outputs": [],
   "source": [
    "BITRATE_MODEL = BitrateModel\n",
    "INIT_MODEL_PARAMETER = ModelParameter()"
   ]
  },
  {
   "cell_type": "code",
   "execution_count": null,
   "metadata": {},
   "outputs": [],
   "source": [
    "data_files = list(Path.cwd().joinpath(\"data\").glob(\"*.csv\"))\n",
    "\n",
    "dfw = DataFrameWrapper(read_df_by_keys(data_files, KEYS.TRAINING_SET))\n",
    "dfw_test = DataFrameWrapper(read_df_by_keys(data_files, KEYS.TEST_SET))"
   ]
  },
  {
   "cell_type": "code",
   "execution_count": null,
   "metadata": {},
   "outputs": [],
   "source": [
    "video_keys = dfw.video_keys\n",
    "test_video_keys = dfw_test.video_keys\n",
    "\n",
    "ax = plt.gca()\n",
    "plot_sa_ta(ax, dfw.df, video_keys, \"Training\")\n",
    "plot_sa_ta(ax, dfw_test.df, test_video_keys, \"Validation\")\n",
    "plt.legend()"
   ]
  },
  {
   "cell_type": "markdown",
   "metadata": {},
   "source": [
    "### Maximum Bitrate\n",
    "\n",
    "$$R_{max,st} = \\rho_0\\cdot SA + \\rho_1\\cdot\\frac{SA}{TA} + \\rho_2\\cdot SA\\cdot TA + \\rho_3$$"
   ]
  },
  {
   "cell_type": "code",
   "execution_count": null,
   "metadata": {},
   "outputs": [],
   "source": [
    "df_r_max = dfw.include()\n",
    "\n",
    "# Non linear least square fitting for Rmax\n",
    "r_max_mae = run_loocv(df_r_max, r_max_loocv_handle, BITRATE_MODEL)\n",
    "print(r_max_mae)\n",
    "\n",
    "r_max_trainer = RMaxTrainer(df_r_max, BITRATE_MODEL, INIT_MODEL_PARAMETER)\n",
    "rho = r_max_trainer.train()\n",
    "expected_rmax, predicted_rmax = r_max_trainer.validate(rho)\n",
    "\n",
    "plot_content_dependent_parameter(r_max_trainer.keys, expected_rmax, predicted_rmax, rho, \"Rmax\", \"Rho\")"
   ]
  },
  {
   "cell_type": "markdown",
   "metadata": {},
   "source": [
    "### Spatial Correction Factor\n",
    "\n",
    "$$SCF(q_p, q_{p,min}) = \\left (\\frac{q_p}{q_{p,min}}\\right )^{-a}$$\n",
    "\n",
    "$$a_{st} = \\alpha_0\\cdot SA + \\alpha_1\\cdot SA\\cdot TA + \\alpha_2$$"
   ]
  },
  {
   "cell_type": "code",
   "execution_count": null,
   "metadata": {},
   "outputs": [],
   "source": [
    "df_qp = dfw.include(variable_qp=True)\n",
    "\n",
    "plot_correction_factor_bitrate_contribution(df_qp, KEYS.QP, \"QP\")\n",
    "\n",
    "# Non linear least square fitting for SCF\n",
    "scf_trainer = SCFTrainer(df_qp, BITRATE_MODEL, INIT_MODEL_PARAMETER)\n",
    "a = scf_trainer.train_cf()\n",
    "expected_scf, predicted_scf = scf_trainer.validate_cf(a)\n",
    "\n",
    "plot_correction_factor(scf_trainer.X, expected_scf, predicted_scf, a, \"$q_p$\", \"SCF\", \"a\", unique=True)"
   ]
  },
  {
   "cell_type": "code",
   "execution_count": null,
   "metadata": {
    "pycharm": {
     "name": "#%%\n"
    }
   },
   "outputs": [],
   "source": [
    "alpha_mae = run_loocv(df_qp, a_st_loocv_handle, BITRATE_MODEL)\n",
    "print(alpha_mae)\n",
    "\n",
    "alpha = scf_trainer.train_st(a)\n",
    "expected_a, predicted_a = scf_trainer.validate_st(a, alpha)\n",
    "\n",
    "plot_content_dependent_parameter(scf_trainer.keys, expected_a, predicted_a, alpha, \"a\", \"alpha\")"
   ]
  },
  {
   "cell_type": "code",
   "execution_count": null,
   "metadata": {
    "pycharm": {
     "name": "#%%\n"
    }
   },
   "outputs": [],
   "source": [
    "expected_scf, predicted_scf = scf_trainer.validate(alpha)\n",
    "\n",
    "plot_correction_factor_st(scf_trainer.X, expected_scf, predicted_scf, \"QP\", \"SCF\", unique=True)"
   ]
  },
  {
   "cell_type": "markdown",
   "metadata": {},
   "source": [
    "### Temporal Correction Factor\n",
    "\n",
    "$$TCF(f, f_{max}) = \\left (\\frac{f}{f_{max}}\\right )^{b}$$\n",
    "\n",
    "$$b_{st} = 1$$"
   ]
  },
  {
   "cell_type": "code",
   "execution_count": null,
   "metadata": {},
   "outputs": [],
   "source": [
    "df_rate = dfw.include(variable_rate=True)\n",
    "\n",
    "plot_correction_factor_bitrate_contribution(df_rate, KEYS.RATE, \"Rate\")\n",
    "\n",
    "# Non linear least square fitting for SCF\n",
    "tcf_trainer = TCFTrainer(df_rate, BITRATE_MODEL, INIT_MODEL_PARAMETER)\n",
    "b = tcf_trainer.train_cf()\n",
    "expected_tcf, predicted_tcf = tcf_trainer.validate_cf(b)\n",
    "\n",
    "plot_correction_factor(tcf_trainer.X, expected_tcf, predicted_tcf, b, \"$f$\", \"TCF\", \"b\", unique=True)"
   ]
  },
  {
   "cell_type": "code",
   "execution_count": null,
   "metadata": {
    "pycharm": {
     "name": "#%%\n"
    }
   },
   "outputs": [],
   "source": [
    "beta_mae = run_loocv(df_rate, b_st_loocv_handle, BITRATE_MODEL)\n",
    "print(beta_mae)\n",
    "\n",
    "beta = tcf_trainer.train_st(b)\n",
    "expected_b, predicted_b = tcf_trainer.validate_st(b, beta)\n",
    "\n",
    "plot_content_dependent_parameter(tcf_trainer.keys, expected_b, predicted_b, beta, \"b\", \"beta\")"
   ]
  },
  {
   "cell_type": "code",
   "execution_count": null,
   "metadata": {
    "pycharm": {
     "name": "#%%\n"
    }
   },
   "outputs": [],
   "source": [
    "expected_tcf, predicted_tcf = tcf_trainer.validate(beta)\n",
    "\n",
    "plot_correction_factor_st(tcf_trainer.X, expected_tcf, predicted_tcf, \"Rate\", \"TCF\", unique=True)"
   ]
  },
  {
   "cell_type": "markdown",
   "metadata": {},
   "source": [
    "### GOP Length Correction Factor\n",
    "\n",
    "$$NCF(n) = c\\cdot\\left (\\frac{1}{n}\\right )^{d} + e$$\n",
    "\n",
    "$$c_{st} = \\gamma_0\\cdot \\log(TA) + \\gamma_1\\cdot TA + \\gamma_2$$\n",
    "\n",
    "$$d_{st} = \\delta_0\\cdot\\frac{TA}{SA} + \\delta_1$$\n",
    "\n",
    "$$e_{st} = \\epsilon_0\\cdot \\log(TA) + \\epsilon_1\\cdot TA + \\epsilon_2$$"
   ]
  },
  {
   "cell_type": "code",
   "execution_count": null,
   "metadata": {},
   "outputs": [],
   "source": [
    "df_gop = dfw.include(variable_gop=True)\n",
    "\n",
    "plot_correction_factor_bitrate_contribution(df_gop, KEYS.GOP, \"GOP\")\n",
    "\n",
    "# Non linear least square fitting for NCF\n",
    "ncf_trainer = NCFTrainer(df_gop, BITRATE_MODEL, INIT_MODEL_PARAMETER)\n",
    "c_d_e = ncf_trainer.train_cf()\n",
    "expected_ncf, predicted_ncf = ncf_trainer.validate_cf(c_d_e)\n",
    "\n",
    "plot_correction_factor(ncf_trainer.X, expected_ncf, predicted_ncf, c_d_e, \"$n$\", \"NCF\", \"[c, d, e]\", unique=True)\n",
    "\n",
    "c, d, e = NCFTrainer.split_c_d_e(c_d_e)"
   ]
  },
  {
   "cell_type": "code",
   "execution_count": null,
   "metadata": {
    "pycharm": {
     "name": "#%%\n"
    }
   },
   "outputs": [],
   "source": [
    "gamma_mae = run_loocv(df_gop, c_st_loocv_handle, BITRATE_MODEL)\n",
    "print(gamma_mae)\n",
    "\n",
    "gamma = ncf_trainer.train_c_st(c)\n",
    "expected_c, predicted_c = ncf_trainer.validate_c_st(c, gamma)\n",
    "\n",
    "plot_content_dependent_parameter(ncf_trainer.keys, expected_c, predicted_c, gamma, \"c\", \"gamma\")"
   ]
  },
  {
   "cell_type": "code",
   "execution_count": null,
   "metadata": {
    "pycharm": {
     "name": "#%%\n"
    }
   },
   "outputs": [],
   "source": [
    "delta_mae = run_loocv(df_gop, d_st_loocv_handle, BITRATE_MODEL)\n",
    "print(delta_mae)\n",
    "\n",
    "delta = ncf_trainer.train_d_st(d)\n",
    "expected_d, predicted_d = ncf_trainer.validate_d_st(d, delta)\n",
    "\n",
    "plot_content_dependent_parameter(ncf_trainer.keys, expected_d, predicted_d, delta, \"d\", \"delta\")"
   ]
  },
  {
   "cell_type": "code",
   "execution_count": null,
   "metadata": {
    "pycharm": {
     "name": "#%%\n"
    }
   },
   "outputs": [],
   "source": [
    "epsilon_mae = run_loocv(df_gop, e_st_loocv_handle, BITRATE_MODEL)\n",
    "print(epsilon_mae)\n",
    "\n",
    "epsilon = ncf_trainer.train_e_st(e)\n",
    "expected_e, predicted_e = ncf_trainer.validate_e_st(e, epsilon)\n",
    "\n",
    "plot_content_dependent_parameter(ncf_trainer.keys, expected_e, predicted_e, epsilon, \"e\", \"epsilon\")"
   ]
  },
  {
   "cell_type": "code",
   "execution_count": null,
   "metadata": {
    "pycharm": {
     "name": "#%%\n"
    }
   },
   "outputs": [],
   "source": [
    "expected_ncf, predicted_ncf = ncf_trainer.validate((gamma, delta, epsilon))\n",
    "\n",
    "plot_correction_factor_st(ncf_trainer.X, expected_ncf, predicted_ncf, \"GOP len\", \"NCF\", unique=True)"
   ]
  },
  {
   "cell_type": "markdown",
   "metadata": {},
   "source": [
    "### Resolution Correction Factor\n",
    "\n",
    "$$RCF(r, r_{max}) = \\left (\\frac{r}{r_{max}} \\right )^j$$\n",
    "\n",
    "$$j_{st} = \\varphi_0\\cdot SA\\cdot TA + \\varphi_1$$"
   ]
  },
  {
   "cell_type": "code",
   "execution_count": null,
   "metadata": {},
   "outputs": [],
   "source": [
    "df_resolution = dfw.include(variable_res=True)\n",
    "plot_correction_factor_bitrate_contribution(df_resolution, KEYS.RES, \"Resolution\")\n",
    "\n",
    "# Non linear least square fitting for RCF\n",
    "rcf_trainer = RCFTrainer(df_resolution, BITRATE_MODEL, INIT_MODEL_PARAMETER)\n",
    "j = rcf_trainer.train_cf()\n",
    "expected_rcf, predicted_rcf = rcf_trainer.validate_cf(j)\n",
    "\n",
    "plot_correction_factor(rcf_trainer.X, expected_rcf, predicted_rcf, j, \"$r$\", \"RCF\", \"j\", unique=True)"
   ]
  },
  {
   "cell_type": "code",
   "execution_count": null,
   "metadata": {
    "pycharm": {
     "name": "#%%\n"
    }
   },
   "outputs": [],
   "source": [
    "phi_mae = run_loocv(df_resolution, j_st_loocv_handle, BITRATE_MODEL)\n",
    "print(phi_mae)\n",
    "\n",
    "phi = rcf_trainer.train_st(j)\n",
    "expected_j, predicted_j = rcf_trainer.validate_st(j, phi)\n",
    "\n",
    "plot_content_dependent_parameter(rcf_trainer.keys, expected_j, predicted_j, phi, \"j\", \"phi\")"
   ]
  },
  {
   "cell_type": "code",
   "execution_count": null,
   "metadata": {
    "pycharm": {
     "name": "#%%\n"
    }
   },
   "outputs": [],
   "source": [
    "expected_rcf, predicted_rcf = rcf_trainer.validate(phi)\n",
    "\n",
    "plot_correction_factor_st(rcf_trainer.X, expected_rcf, predicted_rcf, \"Width\", \"RCF\", unique=True)"
   ]
  },
  {
   "cell_type": "markdown",
   "metadata": {
    "pycharm": {
     "name": "#%% md\n"
    }
   },
   "source": [
    "### Gaussian Kernel Correction Factor\n",
    "\n",
    "$$GCF(k, k_{min}) = l\\cdot\\left (\\frac{k_{min}}{k}\\right )^{m} + o$$\n",
    "\n",
    "$$l_{st} = \\lambda_0\\cdot SA + \\lambda_1$$"
   ]
  },
  {
   "cell_type": "code",
   "execution_count": null,
   "metadata": {},
   "outputs": [],
   "source": [
    "df_ksize = dfw.include(variable_k_size=True)\n",
    "plot_correction_factor_bitrate_contribution(df_ksize, KEYS.KSIZE, \"KSize\")\n",
    "\n",
    "# Non linear least square fitting for GCF\n",
    "gcf_trainer = GCFTrainer(df_ksize, BITRATE_MODEL, INIT_MODEL_PARAMETER)\n",
    "l_m_o = gcf_trainer.train_cf()\n",
    "expected_gcf, predicted_gcf = gcf_trainer.validate_cf(l_m_o)\n",
    "\n",
    "plot_correction_factor(gcf_trainer.X, expected_gcf, predicted_gcf, l_m_o, \"$k$\", \"GCF\", \"[l, m, o]\", unique=True)\n",
    "\n",
    "l, m, o = GCFTrainer.split_l_m_o(l_m_o)"
   ]
  },
  {
   "cell_type": "code",
   "execution_count": null,
   "metadata": {
    "pycharm": {
     "name": "#%%\n"
    }
   },
   "outputs": [],
   "source": [
    "lambda_mae = run_loocv(df_ksize, l_st_loocv_handle, BITRATE_MODEL)\n",
    "print(lambda_mae)\n",
    "\n",
    "lambda_ = gcf_trainer.train_l_st(l)\n",
    "expected_l, predicted_l = gcf_trainer.validate_l_st(l, lambda_)\n",
    "\n",
    "plot_content_dependent_parameter(gcf_trainer.keys, expected_l, predicted_l, lambda_, \"l\", \"lambda\")"
   ]
  },
  {
   "cell_type": "code",
   "execution_count": null,
   "metadata": {
    "pycharm": {
     "name": "#%%\n"
    }
   },
   "outputs": [],
   "source": [
    "mu_mae = run_loocv(df_ksize, m_st_loocv_handle, BITRATE_MODEL)\n",
    "print(mu_mae)\n",
    "\n",
    "mu = gcf_trainer.train_m_st(m)\n",
    "expected_m, predicted_m = gcf_trainer.validate_m_st(m, mu)\n",
    "\n",
    "plot_content_dependent_parameter(gcf_trainer.keys, expected_m, predicted_m, mu, \"m\", \"mu\")"
   ]
  },
  {
   "cell_type": "code",
   "execution_count": null,
   "metadata": {
    "pycharm": {
     "name": "#%%\n"
    }
   },
   "outputs": [],
   "source": [
    "omega_mae = run_loocv(df_ksize, o_st_loocv_handle, BITRATE_MODEL)\n",
    "print(omega_mae)\n",
    "\n",
    "omega = gcf_trainer.train_o_st(o)\n",
    "expected_o, predicted_o = gcf_trainer.validate_o_st(o, omega)\n",
    "\n",
    "plot_content_dependent_parameter(gcf_trainer.keys, expected_o, predicted_o, omega, \"o\", \"omega\")"
   ]
  },
  {
   "cell_type": "code",
   "execution_count": null,
   "metadata": {
    "pycharm": {
     "name": "#%%\n"
    }
   },
   "outputs": [],
   "source": [
    "expected_gcf, predicted_gcf = gcf_trainer.validate((lambda_, mu, omega))\n",
    "\n",
    "plot_correction_factor_st(gcf_trainer.X, expected_gcf, predicted_gcf, \"KSize\", \"GCF\", unique=True)"
   ]
  },
  {
   "cell_type": "markdown",
   "metadata": {
    "pycharm": {
     "name": "#%% md\n"
    }
   },
   "source": [
    "### Gaussian Standard Deviation Correction Factor\n",
    "\n",
    "$$GSDCF(\\sigma, \\sigma_{min}) = t\\cdot\\left (\\frac{\\sigma_{min}}{\\sigma}\\right )^{u} + v$$\n",
    "\n",
    "$$t_{st} = \\tau_0\\cdot\\log (SA\\cdot TA) + \\tau_1$$\n",
    "\n",
    "$$u_{st} = \\upsilon_0\\cdot SA\\cdot TA + \\upsilon_1$$\n",
    "\n",
    "$$v_{st} = \\nu_0\\cdot\\log (SA\\cdot TA) + \\nu_1$$"
   ]
  },
  {
   "cell_type": "code",
   "execution_count": null,
   "metadata": {
    "pycharm": {
     "name": "#%%\n"
    }
   },
   "outputs": [],
   "source": [
    "df_gauss = dfw.include(variable_sigma=True, variable_k_size=True)\n",
    "df_sigma = df_gauss.loc[df_gauss[KEYS.KSIZE] == 3]\n",
    "plot_correction_factor_bitrate_contribution(df_sigma, KEYS.SIGMA, \"sigma\")\n",
    "\n",
    "# Non linear least square fitting for GCF\n",
    "sdcf_trainer = SDCFTrainer(df_sigma, BITRATE_MODEL, INIT_MODEL_PARAMETER)\n",
    "t_u_v = sdcf_trainer.train_cf()\n",
    "expected_sdcf, predicted_sdcf = sdcf_trainer.validate_cf(t_u_v)\n",
    "\n",
    "plot_correction_factor(sdcf_trainer.X, expected_sdcf, predicted_sdcf, t_u_v, \"$\\sigma$\", \"SDCF\", \"[t, u, v]\", unique=True)\n",
    "\n",
    "t, u, v = SDCFTrainer.split_t_u_v(t_u_v)"
   ]
  },
  {
   "cell_type": "code",
   "execution_count": null,
   "metadata": {
    "pycharm": {
     "name": "#%%\n"
    }
   },
   "outputs": [],
   "source": [
    "tau_mae = run_loocv(df_sigma, t_st_loocv_handle, BITRATE_MODEL)\n",
    "print(tau_mae)\n",
    "\n",
    "tau = sdcf_trainer.train_t_st(t)\n",
    "expected_t, predicted_t = sdcf_trainer.validate_t_st(t, tau)\n",
    "\n",
    "plot_content_dependent_parameter(sdcf_trainer.keys, expected_t, predicted_t, tau, \"t\", \"tau\")"
   ]
  },
  {
   "cell_type": "code",
   "execution_count": null,
   "metadata": {
    "pycharm": {
     "name": "#%%\n"
    }
   },
   "outputs": [],
   "source": [
    "upsilon_mae = run_loocv(df_sigma, u_st_loocv_handle, BITRATE_MODEL)\n",
    "print(upsilon_mae)\n",
    "\n",
    "upsilon = sdcf_trainer.train_u_st(u)\n",
    "expected_u, predicted_u = sdcf_trainer.validate_u_st(u, upsilon)\n",
    "\n",
    "plot_content_dependent_parameter(sdcf_trainer.keys, expected_u, predicted_u, upsilon, \"u\", \"upsilon\")"
   ]
  },
  {
   "cell_type": "code",
   "execution_count": null,
   "metadata": {
    "pycharm": {
     "name": "#%%\n"
    }
   },
   "outputs": [],
   "source": [
    "nu_mae = run_loocv(df_sigma, v_st_loocv_handle, BITRATE_MODEL)\n",
    "print(nu_mae)\n",
    "\n",
    "nu = sdcf_trainer.train_v_st(v)\n",
    "expected_v, predicted_v = sdcf_trainer.validate_v_st(v, nu)\n",
    "\n",
    "plot_content_dependent_parameter(sdcf_trainer.keys, expected_v, predicted_v, nu, \"v\", \"nu\")"
   ]
  },
  {
   "cell_type": "code",
   "execution_count": null,
   "metadata": {
    "pycharm": {
     "name": "#%%\n"
    }
   },
   "outputs": [],
   "source": [
    "expected_sdcf, predicted_sdcf = sdcf_trainer.validate((tau, upsilon, nu))\n",
    "\n",
    "plot_correction_factor_st(sdcf_trainer.X, expected_sdcf, predicted_sdcf, \"$\\sigma$\", \"SDCF\", unique=True)"
   ]
  },
  {
   "cell_type": "code",
   "execution_count": null,
   "metadata": {
    "pycharm": {
     "name": "#%%\n"
    }
   },
   "outputs": [],
   "source": [
    "# Evaluate and visualize bitrate\n",
    "bitrate_model = BITRATE_MODEL(INIT_MODEL_PARAMETER)\n",
    "for key in dfw_test.video_keys.tolist():\n",
    "    bitrate_measured, bitrate_estimated = validate_bitrates_for_video(\n",
    "        get_df_for_evaluation(dfw_test, BITRATE_MODEL, False), bitrate_model, key,\n",
    "    )\n",
    "    plot_bitrates(bitrate_measured, bitrate_estimated, key)\n",
    "    if key == KEYS.SINGLE_VIDEO:\n",
    "        save_plot(key)"
   ]
  }
 ],
 "metadata": {
  "kernelspec": {
   "display_name": "Python 3",
   "language": "python",
   "name": "python3"
  },
  "language_info": {
   "codemirror_mode": {
    "name": "ipython",
    "version": 3
   },
   "file_extension": ".py",
   "mimetype": "text/x-python",
   "name": "python",
   "nbconvert_exporter": "python",
   "pygments_lexer": "ipython3",
   "version": "3.8.5-final"
  }
 },
 "nbformat": 4,
 "nbformat_minor": 2
}
